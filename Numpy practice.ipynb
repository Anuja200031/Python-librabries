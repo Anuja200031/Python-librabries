{
 "cells": [
  {
   "cell_type": "code",
   "execution_count": 58,
   "id": "277c9648",
   "metadata": {},
   "outputs": [],
   "source": [
    "import numpy as np\n",
    "import warnings\n",
    "warnings.filterwarnings('ignore')"
   ]
  },
  {
   "cell_type": "markdown",
   "id": "15079fbf",
   "metadata": {},
   "source": [
    "# how to create an array"
   ]
  },
  {
   "cell_type": "code",
   "execution_count": 2,
   "id": "51caa1ea",
   "metadata": {},
   "outputs": [],
   "source": [
    "lst=[1,2,3,4,5,6,7,8]"
   ]
  },
  {
   "cell_type": "code",
   "execution_count": 3,
   "id": "7cfbdc34",
   "metadata": {},
   "outputs": [
    {
     "name": "stdout",
     "output_type": "stream",
     "text": [
      "[1 2 3 4 5 6 7 8]\n"
     ]
    }
   ],
   "source": [
    "arr=np.array(lst)\n",
    "print(arr)"
   ]
  },
  {
   "cell_type": "code",
   "execution_count": 4,
   "id": "0e575cab",
   "metadata": {},
   "outputs": [
    {
     "data": {
      "text/plain": [
       "8"
      ]
     },
     "execution_count": 4,
     "metadata": {},
     "output_type": "execute_result"
    }
   ],
   "source": [
    "arr.size"
   ]
  },
  {
   "cell_type": "code",
   "execution_count": 5,
   "id": "017e1951",
   "metadata": {},
   "outputs": [
    {
     "data": {
      "text/plain": [
       "(8,)"
      ]
     },
     "execution_count": 5,
     "metadata": {},
     "output_type": "execute_result"
    }
   ],
   "source": [
    "arr.shape"
   ]
  },
  {
   "cell_type": "code",
   "execution_count": 6,
   "id": "29b1cd72",
   "metadata": {},
   "outputs": [
    {
     "data": {
      "text/plain": [
       "dtype('int32')"
      ]
     },
     "execution_count": 6,
     "metadata": {},
     "output_type": "execute_result"
    }
   ],
   "source": [
    "arr.dtype"
   ]
  },
  {
   "cell_type": "code",
   "execution_count": 7,
   "id": "f144d704",
   "metadata": {},
   "outputs": [
    {
     "data": {
      "text/plain": [
       "1"
      ]
     },
     "execution_count": 7,
     "metadata": {},
     "output_type": "execute_result"
    }
   ],
   "source": [
    "arr.ndim"
   ]
  },
  {
   "cell_type": "code",
   "execution_count": 17,
   "id": "bc52a323",
   "metadata": {},
   "outputs": [
    {
     "name": "stdout",
     "output_type": "stream",
     "text": [
      "[[1 2]\n",
      " [3 4]\n",
      " [5 6]\n",
      " [7 8]]\n"
     ]
    }
   ],
   "source": [
    "arr2=np.array(lst).reshape(4,2)\n",
    "print(arr2)"
   ]
  },
  {
   "cell_type": "code",
   "execution_count": 18,
   "id": "a215cc25",
   "metadata": {},
   "outputs": [
    {
     "data": {
      "text/plain": [
       "8"
      ]
     },
     "execution_count": 18,
     "metadata": {},
     "output_type": "execute_result"
    }
   ],
   "source": [
    "arr2.size"
   ]
  },
  {
   "cell_type": "code",
   "execution_count": 19,
   "id": "87556ca9",
   "metadata": {},
   "outputs": [
    {
     "data": {
      "text/plain": [
       "(4, 2)"
      ]
     },
     "execution_count": 19,
     "metadata": {},
     "output_type": "execute_result"
    }
   ],
   "source": [
    "arr2.shape"
   ]
  },
  {
   "cell_type": "code",
   "execution_count": 20,
   "id": "21296b4e",
   "metadata": {},
   "outputs": [
    {
     "data": {
      "text/plain": [
       "dtype('int32')"
      ]
     },
     "execution_count": 20,
     "metadata": {},
     "output_type": "execute_result"
    }
   ],
   "source": [
    "arr2.dtype"
   ]
  },
  {
   "cell_type": "code",
   "execution_count": 21,
   "id": "579da01e",
   "metadata": {},
   "outputs": [
    {
     "data": {
      "text/plain": [
       "2"
      ]
     },
     "execution_count": 21,
     "metadata": {},
     "output_type": "execute_result"
    }
   ],
   "source": [
    "arr2.ndim"
   ]
  },
  {
   "cell_type": "code",
   "execution_count": 23,
   "id": "0d657289",
   "metadata": {},
   "outputs": [
    {
     "name": "stdout",
     "output_type": "stream",
     "text": [
      "int32\n"
     ]
    }
   ],
   "source": [
    "arr3=np.array([1,2,3,4,4])\n",
    "print(arr3.dtype)"
   ]
  },
  {
   "cell_type": "markdown",
   "id": "e12ab7d9",
   "metadata": {},
   "source": [
    "# Creating different types of arrays"
   ]
  },
  {
   "cell_type": "markdown",
   "id": "0035d13d",
   "metadata": {},
   "source": [
    "arange()"
   ]
  },
  {
   "cell_type": "code",
   "execution_count": 24,
   "id": "9596339b",
   "metadata": {},
   "outputs": [
    {
     "data": {
      "text/plain": [
       "array([1, 3, 5])"
      ]
     },
     "execution_count": 24,
     "metadata": {},
     "output_type": "execute_result"
    }
   ],
   "source": [
    "arr=np.arange(1,7,2)\n",
    "arr"
   ]
  },
  {
   "cell_type": "markdown",
   "id": "521661a5",
   "metadata": {},
   "source": [
    "linspace()"
   ]
  },
  {
   "cell_type": "code",
   "execution_count": 28,
   "id": "a359e3fb",
   "metadata": {},
   "outputs": [
    {
     "data": {
      "text/plain": [
       "array([1., 4., 7.])"
      ]
     },
     "execution_count": 28,
     "metadata": {},
     "output_type": "execute_result"
    }
   ],
   "source": [
    "arr=np.linspace(1,7,3)\n",
    "arr"
   ]
  },
  {
   "cell_type": "markdown",
   "id": "c3fbaf8e",
   "metadata": {},
   "source": [
    "zeros()"
   ]
  },
  {
   "cell_type": "code",
   "execution_count": 29,
   "id": "90ab1187",
   "metadata": {},
   "outputs": [
    {
     "data": {
      "text/plain": [
       "array([[0., 0.],\n",
       "       [0., 0.]])"
      ]
     },
     "execution_count": 29,
     "metadata": {},
     "output_type": "execute_result"
    }
   ],
   "source": [
    "arr=np.zeros((2,2))\n",
    "arr"
   ]
  },
  {
   "cell_type": "markdown",
   "id": "ca2601f4",
   "metadata": {},
   "source": [
    "ones()"
   ]
  },
  {
   "cell_type": "code",
   "execution_count": 32,
   "id": "51edf8cb",
   "metadata": {},
   "outputs": [
    {
     "data": {
      "text/plain": [
       "array([[1, 1, 1],\n",
       "       [1, 1, 1],\n",
       "       [1, 1, 1]])"
      ]
     },
     "execution_count": 32,
     "metadata": {},
     "output_type": "execute_result"
    }
   ],
   "source": [
    "np.ones((3,3),dtype=int)"
   ]
  },
  {
   "cell_type": "code",
   "execution_count": 33,
   "id": "bab53ae9",
   "metadata": {},
   "outputs": [
    {
     "data": {
      "text/plain": [
       "array([[6, 6, 6],\n",
       "       [6, 6, 6],\n",
       "       [6, 6, 6]])"
      ]
     },
     "execution_count": 33,
     "metadata": {},
     "output_type": "execute_result"
    }
   ],
   "source": [
    "np.ones((3,3),dtype=int)*6"
   ]
  },
  {
   "cell_type": "markdown",
   "id": "adaec687",
   "metadata": {},
   "source": [
    "Identity Matrix"
   ]
  },
  {
   "cell_type": "code",
   "execution_count": 35,
   "id": "c540becf",
   "metadata": {},
   "outputs": [
    {
     "data": {
      "text/plain": [
       "array([[1., 0., 0.],\n",
       "       [0., 1., 0.],\n",
       "       [0., 0., 1.]])"
      ]
     },
     "execution_count": 35,
     "metadata": {},
     "output_type": "execute_result"
    }
   ],
   "source": [
    "np.eye(3,3)"
   ]
  },
  {
   "cell_type": "code",
   "execution_count": 36,
   "id": "90db2b3c",
   "metadata": {},
   "outputs": [
    {
     "data": {
      "text/plain": [
       "array([[1, 0, 0, 0],\n",
       "       [0, 1, 0, 0],\n",
       "       [0, 0, 1, 0],\n",
       "       [0, 0, 0, 1],\n",
       "       [0, 0, 0, 0],\n",
       "       [0, 0, 0, 0]])"
      ]
     },
     "execution_count": 36,
     "metadata": {},
     "output_type": "execute_result"
    }
   ],
   "source": [
    "np.eye(6,4,dtype=int)"
   ]
  },
  {
   "cell_type": "markdown",
   "id": "d98fabb0",
   "metadata": {},
   "source": [
    "full()"
   ]
  },
  {
   "cell_type": "code",
   "execution_count": 37,
   "id": "4a4955dd",
   "metadata": {},
   "outputs": [
    {
     "data": {
      "text/plain": [
       "array([[5, 5, 5, 5],\n",
       "       [5, 5, 5, 5],\n",
       "       [5, 5, 5, 5],\n",
       "       [5, 5, 5, 5]])"
      ]
     },
     "execution_count": 37,
     "metadata": {},
     "output_type": "execute_result"
    }
   ],
   "source": [
    "np.full((4,4),5)"
   ]
  },
  {
   "cell_type": "markdown",
   "id": "b8acdfbc",
   "metadata": {},
   "source": [
    "full_like()"
   ]
  },
  {
   "cell_type": "code",
   "execution_count": 39,
   "id": "e2d2d8dc",
   "metadata": {},
   "outputs": [],
   "source": [
    "arr=np.arange(18).reshape(2,9)"
   ]
  },
  {
   "cell_type": "code",
   "execution_count": 40,
   "id": "4c5c858c",
   "metadata": {},
   "outputs": [
    {
     "data": {
      "text/plain": [
       "array([[ 0,  1,  2,  3,  4,  5,  6,  7,  8],\n",
       "       [ 9, 10, 11, 12, 13, 14, 15, 16, 17]])"
      ]
     },
     "execution_count": 40,
     "metadata": {},
     "output_type": "execute_result"
    }
   ],
   "source": [
    "arr"
   ]
  },
  {
   "cell_type": "code",
   "execution_count": 41,
   "id": "58053d99",
   "metadata": {},
   "outputs": [
    {
     "data": {
      "text/plain": [
       "array([[10.+3.j, 10.+3.j, 10.+3.j, 10.+3.j, 10.+3.j, 10.+3.j, 10.+3.j,\n",
       "        10.+3.j, 10.+3.j],\n",
       "       [10.+3.j, 10.+3.j, 10.+3.j, 10.+3.j, 10.+3.j, 10.+3.j, 10.+3.j,\n",
       "        10.+3.j, 10.+3.j]])"
      ]
     },
     "execution_count": 41,
     "metadata": {},
     "output_type": "execute_result"
    }
   ],
   "source": [
    "np.full_like(arr,10+3j,dtype=complex)"
   ]
  },
  {
   "cell_type": "markdown",
   "id": "1560efcf",
   "metadata": {},
   "source": [
    "zeros_like"
   ]
  },
  {
   "cell_type": "code",
   "execution_count": 42,
   "id": "06d086c8",
   "metadata": {},
   "outputs": [
    {
     "data": {
      "text/plain": [
       "array([[0, 0, 0, 0, 0, 0, 0, 0, 0],\n",
       "       [0, 0, 0, 0, 0, 0, 0, 0, 0]])"
      ]
     },
     "execution_count": 42,
     "metadata": {},
     "output_type": "execute_result"
    }
   ],
   "source": [
    "np.zeros_like(arr)"
   ]
  },
  {
   "cell_type": "markdown",
   "id": "6f6d33df",
   "metadata": {},
   "source": [
    "ones_like"
   ]
  },
  {
   "cell_type": "code",
   "execution_count": 44,
   "id": "a8c279b1",
   "metadata": {},
   "outputs": [
    {
     "data": {
      "text/plain": [
       "array([[8, 8, 8, 8, 8, 8, 8, 8, 8],\n",
       "       [8, 8, 8, 8, 8, 8, 8, 8, 8]])"
      ]
     },
     "execution_count": 44,
     "metadata": {},
     "output_type": "execute_result"
    }
   ],
   "source": [
    "np.ones_like(arr)*8"
   ]
  },
  {
   "cell_type": "markdown",
   "id": "9653fca3",
   "metadata": {},
   "source": [
    "reshape"
   ]
  },
  {
   "cell_type": "code",
   "execution_count": 45,
   "id": "16d65b26",
   "metadata": {},
   "outputs": [
    {
     "data": {
      "text/plain": [
       "array([1, 2, 3, 4, 5, 6])"
      ]
     },
     "execution_count": 45,
     "metadata": {},
     "output_type": "execute_result"
    }
   ],
   "source": [
    "arr=np.array([1,2,3,4,5,6])\n",
    "arr"
   ]
  },
  {
   "cell_type": "code",
   "execution_count": 47,
   "id": "a60ee182",
   "metadata": {},
   "outputs": [
    {
     "data": {
      "text/plain": [
       "array([[1, 2],\n",
       "       [3, 4],\n",
       "       [5, 6]])"
      ]
     },
     "execution_count": 47,
     "metadata": {},
     "output_type": "execute_result"
    }
   ],
   "source": [
    "arr.reshape(3,2)"
   ]
  },
  {
   "cell_type": "code",
   "execution_count": 48,
   "id": "7a03b263",
   "metadata": {},
   "outputs": [
    {
     "data": {
      "text/plain": [
       "array([1, 2, 3, 4, 5, 6])"
      ]
     },
     "execution_count": 48,
     "metadata": {},
     "output_type": "execute_result"
    }
   ],
   "source": [
    "arr"
   ]
  },
  {
   "cell_type": "markdown",
   "id": "90436d08",
   "metadata": {},
   "source": [
    "np.shape=()"
   ]
  },
  {
   "cell_type": "code",
   "execution_count": 51,
   "id": "44ef10a9",
   "metadata": {},
   "outputs": [
    {
     "data": {
      "text/plain": [
       "array([1, 2, 4, 6, 7, 9])"
      ]
     },
     "execution_count": 51,
     "metadata": {},
     "output_type": "execute_result"
    }
   ],
   "source": [
    "arr2=np.array([1,2,4,6,7,9])\n",
    "arr2"
   ]
  },
  {
   "cell_type": "code",
   "execution_count": 53,
   "id": "f653b2b0",
   "metadata": {},
   "outputs": [],
   "source": [
    "arr2.shape=(2,3)"
   ]
  },
  {
   "cell_type": "code",
   "execution_count": 54,
   "id": "227f3341",
   "metadata": {},
   "outputs": [
    {
     "data": {
      "text/plain": [
       "array([[1, 2, 4],\n",
       "       [6, 7, 9]])"
      ]
     },
     "execution_count": 54,
     "metadata": {},
     "output_type": "execute_result"
    }
   ],
   "source": [
    "arr2"
   ]
  },
  {
   "cell_type": "code",
   "execution_count": 55,
   "id": "e5c5cc8b",
   "metadata": {},
   "outputs": [
    {
     "data": {
      "text/plain": [
       "array([[1, 2, 4],\n",
       "       [6, 7, 9]])"
      ]
     },
     "execution_count": 55,
     "metadata": {},
     "output_type": "execute_result"
    }
   ],
   "source": [
    "arr2"
   ]
  },
  {
   "cell_type": "markdown",
   "id": "7519f9f7",
   "metadata": {},
   "source": [
    "## Transpose"
   ]
  },
  {
   "cell_type": "code",
   "execution_count": 56,
   "id": "624663ae",
   "metadata": {},
   "outputs": [
    {
     "data": {
      "text/plain": [
       "array([[1, 6],\n",
       "       [2, 7],\n",
       "       [4, 9]])"
      ]
     },
     "execution_count": 56,
     "metadata": {},
     "output_type": "execute_result"
    }
   ],
   "source": [
    "arr2.T"
   ]
  },
  {
   "cell_type": "markdown",
   "id": "998ac280",
   "metadata": {},
   "source": [
    "## Creating an array"
   ]
  },
  {
   "cell_type": "code",
   "execution_count": null,
   "id": "0e6b34a4",
   "metadata": {},
   "outputs": [],
   "source": [
    "np.array()\n",
    "np.arange(start,stop,step)\n",
    "np.linspace(start,stop,no of values)\n",
    "np.eye(rows,cols,dtype=int)\n",
    "np.zeros((rows,cols),dtype=int)\n",
    "np.zeros_like(arr)\n",
    "np.ones((rows,cols),dtype=int)\n",
    "np.ones_like(arr)\n",
    "np.full((rows,cols),value)\n",
    "np.full_like(arr,value)"
   ]
  },
  {
   "cell_type": "markdown",
   "id": "617c02d9",
   "metadata": {},
   "source": [
    "## Creating an array of random values"
   ]
  },
  {
   "cell_type": "code",
   "execution_count": 60,
   "id": "b481d411",
   "metadata": {},
   "outputs": [],
   "source": [
    "from numpy import random"
   ]
  },
  {
   "cell_type": "code",
   "execution_count": null,
   "id": "5e746e05",
   "metadata": {},
   "outputs": [],
   "source": [
    "random.random(value)\n",
    "random.rand(rows,cols)\n",
    "random.seed(random state)\n",
    "random.normal(mean,std,size)\n",
    "random.randint(start,stop,no of values)"
   ]
  },
  {
   "cell_type": "code",
   "execution_count": 1,
   "id": "984bdf98",
   "metadata": {},
   "outputs": [],
   "source": [
    "from numpy import  random"
   ]
  },
  {
   "cell_type": "code",
   "execution_count": 24,
   "id": "223020d7",
   "metadata": {},
   "outputs": [
    {
     "data": {
      "text/plain": [
       "array([[3, 2, 5, 8, 5, 6],\n",
       "       [2, 9, 9, 4, 7, 5],\n",
       "       [7, 2, 5, 6, 9, 2]])"
      ]
     },
     "execution_count": 24,
     "metadata": {},
     "output_type": "execute_result"
    }
   ],
   "source": [
    "arr=random.randint(2,10,18).reshape(3,6)\n",
    "arr"
   ]
  },
  {
   "cell_type": "code",
   "execution_count": 4,
   "id": "67b3ba3a",
   "metadata": {},
   "outputs": [
    {
     "data": {
      "text/plain": [
       "array([6, 8, 7, 3, 5, 7])"
      ]
     },
     "execution_count": 4,
     "metadata": {},
     "output_type": "execute_result"
    }
   ],
   "source": [
    "arr[0]"
   ]
  },
  {
   "cell_type": "code",
   "execution_count": 5,
   "id": "4e9a8e09",
   "metadata": {},
   "outputs": [
    {
     "data": {
      "text/plain": [
       "6"
      ]
     },
     "execution_count": 5,
     "metadata": {},
     "output_type": "execute_result"
    }
   ],
   "source": [
    "arr[0,0]"
   ]
  },
  {
   "cell_type": "code",
   "execution_count": 6,
   "id": "3e8d1c68",
   "metadata": {},
   "outputs": [
    {
     "data": {
      "text/plain": [
       "4"
      ]
     },
     "execution_count": 6,
     "metadata": {},
     "output_type": "execute_result"
    }
   ],
   "source": [
    "arr[2,4]"
   ]
  },
  {
   "cell_type": "code",
   "execution_count": 7,
   "id": "b8761a40",
   "metadata": {},
   "outputs": [
    {
     "data": {
      "text/plain": [
       "array([[5, 7, 8, 6]])"
      ]
     },
     "execution_count": 7,
     "metadata": {},
     "output_type": "execute_result"
    }
   ],
   "source": [
    "arr[1:2,1:5]"
   ]
  },
  {
   "cell_type": "code",
   "execution_count": 25,
   "id": "2e3feb76",
   "metadata": {},
   "outputs": [
    {
     "data": {
      "text/plain": [
       "array([[3, 2, 5, 8, 5, 6],\n",
       "       [2, 9, 9, 4, 7, 5],\n",
       "       [7, 2, 5, 6, 9, 2]])"
      ]
     },
     "execution_count": 25,
     "metadata": {},
     "output_type": "execute_result"
    }
   ],
   "source": [
    "arr"
   ]
  },
  {
   "cell_type": "code",
   "execution_count": 28,
   "id": "e5e60e51",
   "metadata": {},
   "outputs": [],
   "source": [
    "import numpy as np"
   ]
  },
  {
   "cell_type": "code",
   "execution_count": 29,
   "id": "7d28ca5a",
   "metadata": {},
   "outputs": [
    {
     "data": {
      "text/plain": [
       "array([3, 9, 5])"
      ]
     },
     "execution_count": 29,
     "metadata": {},
     "output_type": "execute_result"
    }
   ],
   "source": [
    "np.diag(arr)"
   ]
  },
  {
   "cell_type": "code",
   "execution_count": 30,
   "id": "d12c5abf",
   "metadata": {},
   "outputs": [
    {
     "data": {
      "text/plain": [
       "array([[9, 0, 0],\n",
       "       [0, 8, 0],\n",
       "       [0, 0, 7]])"
      ]
     },
     "execution_count": 30,
     "metadata": {},
     "output_type": "execute_result"
    }
   ],
   "source": [
    "np.diag([9,8,7])"
   ]
  },
  {
   "cell_type": "code",
   "execution_count": 9,
   "id": "b4dd2f0e",
   "metadata": {},
   "outputs": [
    {
     "data": {
      "text/plain": [
       "array([[3, 5, 7],\n",
       "       [8, 6, 8]])"
      ]
     },
     "execution_count": 9,
     "metadata": {},
     "output_type": "execute_result"
    }
   ],
   "source": [
    "arr[0:2,3:7]"
   ]
  },
  {
   "cell_type": "code",
   "execution_count": 14,
   "id": "b9411e9a",
   "metadata": {},
   "outputs": [],
   "source": [
    "from numpy import random"
   ]
  },
  {
   "cell_type": "code",
   "execution_count": 31,
   "id": "303a7226",
   "metadata": {},
   "outputs": [],
   "source": [
    "arr=random.randint(12,50,64).reshape(4,4,4)"
   ]
  },
  {
   "cell_type": "code",
   "execution_count": 32,
   "id": "3d56afdf",
   "metadata": {},
   "outputs": [
    {
     "data": {
      "text/plain": [
       "array([[[21, 21, 12, 33],\n",
       "        [12, 39, 25, 18],\n",
       "        [42, 21, 47, 37],\n",
       "        [14, 16, 25, 31]],\n",
       "\n",
       "       [[37, 25, 37, 35],\n",
       "        [42, 15, 22, 18],\n",
       "        [26, 13, 32, 16],\n",
       "        [35, 42, 28, 39]],\n",
       "\n",
       "       [[22, 15, 37, 28],\n",
       "        [24, 44, 49, 15],\n",
       "        [48, 38, 16, 37],\n",
       "        [46, 36, 40, 15]],\n",
       "\n",
       "       [[27, 33, 23, 43],\n",
       "        [48, 15, 45, 45],\n",
       "        [49, 40, 48, 13],\n",
       "        [18, 38, 34, 43]]])"
      ]
     },
     "execution_count": 32,
     "metadata": {},
     "output_type": "execute_result"
    }
   ],
   "source": [
    "arr"
   ]
  },
  {
   "cell_type": "code",
   "execution_count": 22,
   "id": "6db3ed5e",
   "metadata": {},
   "outputs": [
    {
     "data": {
      "text/plain": [
       "48"
      ]
     },
     "execution_count": 22,
     "metadata": {},
     "output_type": "execute_result"
    }
   ],
   "source": [
    "arr[0,1,1]"
   ]
  },
  {
   "cell_type": "code",
   "execution_count": 21,
   "id": "ea7409f3",
   "metadata": {},
   "outputs": [
    {
     "data": {
      "text/plain": [
       "array([[19, 48, 12, 14],\n",
       "       [43, 48, 43, 49],\n",
       "       [15, 14, 46, 26],\n",
       "       [28, 43, 49, 44]])"
      ]
     },
     "execution_count": 21,
     "metadata": {},
     "output_type": "execute_result"
    }
   ],
   "source": [
    "arr[0]"
   ]
  },
  {
   "cell_type": "code",
   "execution_count": 33,
   "id": "c415366c",
   "metadata": {},
   "outputs": [
    {
     "data": {
      "text/plain": [
       "array([[[21, 21, 12, 33],\n",
       "        [12, 39, 25, 18],\n",
       "        [42, 21, 47, 37],\n",
       "        [14, 16, 25, 31]],\n",
       "\n",
       "       [[37, 25, 37, 35],\n",
       "        [42, 15, 22, 18],\n",
       "        [26, 13, 32, 16],\n",
       "        [35, 42, 28, 39]],\n",
       "\n",
       "       [[22, 15, 37, 28],\n",
       "        [24, 44, 49, 15],\n",
       "        [48, 38, 16, 37],\n",
       "        [46, 36, 40, 15]],\n",
       "\n",
       "       [[27, 33, 23, 43],\n",
       "        [48, 15, 45, 45],\n",
       "        [49, 40, 48, 13],\n",
       "        [18, 38, 34, 43]]])"
      ]
     },
     "execution_count": 33,
     "metadata": {},
     "output_type": "execute_result"
    }
   ],
   "source": [
    "arr"
   ]
  },
  {
   "cell_type": "code",
   "execution_count": 34,
   "id": "c67e92bc",
   "metadata": {},
   "outputs": [
    {
     "data": {
      "text/plain": [
       "array([[[44, 49],\n",
       "        [38, 16]]])"
      ]
     },
     "execution_count": 34,
     "metadata": {},
     "output_type": "execute_result"
    }
   ],
   "source": [
    "arr[2:3,1:3,1:3]"
   ]
  },
  {
   "cell_type": "code",
   "execution_count": 35,
   "id": "80020356",
   "metadata": {},
   "outputs": [
    {
     "data": {
      "text/plain": [
       "array([[[12, 33],\n",
       "        [25, 18],\n",
       "        [47, 37],\n",
       "        [25, 31]],\n",
       "\n",
       "       [[37, 35],\n",
       "        [22, 18],\n",
       "        [32, 16],\n",
       "        [28, 39]],\n",
       "\n",
       "       [[37, 28],\n",
       "        [49, 15],\n",
       "        [16, 37],\n",
       "        [40, 15]],\n",
       "\n",
       "       [[23, 43],\n",
       "        [45, 45],\n",
       "        [48, 13],\n",
       "        [34, 43]]])"
      ]
     },
     "execution_count": 35,
     "metadata": {},
     "output_type": "execute_result"
    }
   ],
   "source": [
    "arr[::,::,2:]"
   ]
  },
  {
   "cell_type": "code",
   "execution_count": 37,
   "id": "286e5eb6",
   "metadata": {},
   "outputs": [
    {
     "data": {
      "text/plain": [
       "64"
      ]
     },
     "execution_count": 37,
     "metadata": {},
     "output_type": "execute_result"
    }
   ],
   "source": [
    "arr.size"
   ]
  },
  {
   "cell_type": "code",
   "execution_count": 38,
   "id": "973e1a92",
   "metadata": {},
   "outputs": [],
   "source": [
    "arr2=arr.reshape(8,8)"
   ]
  },
  {
   "cell_type": "code",
   "execution_count": 39,
   "id": "8e2231cc",
   "metadata": {},
   "outputs": [
    {
     "data": {
      "text/plain": [
       "array([[21, 21, 12, 33, 12, 39, 25, 18],\n",
       "       [42, 21, 47, 37, 14, 16, 25, 31],\n",
       "       [37, 25, 37, 35, 42, 15, 22, 18],\n",
       "       [26, 13, 32, 16, 35, 42, 28, 39],\n",
       "       [22, 15, 37, 28, 24, 44, 49, 15],\n",
       "       [48, 38, 16, 37, 46, 36, 40, 15],\n",
       "       [27, 33, 23, 43, 48, 15, 45, 45],\n",
       "       [49, 40, 48, 13, 18, 38, 34, 43]])"
      ]
     },
     "execution_count": 39,
     "metadata": {},
     "output_type": "execute_result"
    }
   ],
   "source": [
    "arr2"
   ]
  },
  {
   "cell_type": "code",
   "execution_count": null,
   "id": "22284004",
   "metadata": {},
   "outputs": [],
   "source": [
    "ravel()----convert 2D / 3D array into 1D array it does make changes in the existing array  it returns new object"
   ]
  },
  {
   "cell_type": "code",
   "execution_count": 43,
   "id": "6a286ff7",
   "metadata": {},
   "outputs": [],
   "source": [
    "arr3=arr.ravel()"
   ]
  },
  {
   "cell_type": "code",
   "execution_count": 44,
   "id": "383960b6",
   "metadata": {},
   "outputs": [
    {
     "data": {
      "text/plain": [
       "array([21, 21, 12, 33, 12, 39, 25, 18, 42, 21, 47, 37, 14, 16, 25, 31, 37,\n",
       "       25, 37, 35, 42, 15, 22, 18, 26, 13, 32, 16, 35, 42, 28, 39, 22, 15,\n",
       "       37, 28, 24, 44, 49, 15, 48, 38, 16, 37, 46, 36, 40, 15, 27, 33, 23,\n",
       "       43, 48, 15, 45, 45, 49, 40, 48, 13, 18, 38, 34, 43])"
      ]
     },
     "execution_count": 44,
     "metadata": {},
     "output_type": "execute_result"
    }
   ],
   "source": [
    "arr3"
   ]
  },
  {
   "cell_type": "code",
   "execution_count": 45,
   "id": "962ded29",
   "metadata": {},
   "outputs": [
    {
     "data": {
      "text/plain": [
       "1"
      ]
     },
     "execution_count": 45,
     "metadata": {},
     "output_type": "execute_result"
    }
   ],
   "source": [
    "arr3.ndim"
   ]
  },
  {
   "cell_type": "code",
   "execution_count": 46,
   "id": "515fce7e",
   "metadata": {},
   "outputs": [
    {
     "data": {
      "text/plain": [
       "array([21, 21, 12, 33, 12, 39, 25, 18, 42, 21, 47, 37, 14, 16, 25, 31, 37,\n",
       "       25, 37, 35, 42, 15, 22, 18, 26, 13, 32, 16, 35, 42, 28, 39, 22, 15,\n",
       "       37, 28, 24, 44, 49, 15, 48, 38, 16, 37, 46, 36, 40, 15, 27, 33, 23,\n",
       "       43, 48, 15, 45, 45, 49, 40, 48, 13, 18, 38, 34, 43])"
      ]
     },
     "execution_count": 46,
     "metadata": {},
     "output_type": "execute_result"
    }
   ],
   "source": [
    "arr3"
   ]
  },
  {
   "cell_type": "code",
   "execution_count": 47,
   "id": "c1bec2bb",
   "metadata": {},
   "outputs": [
    {
     "data": {
      "text/plain": [
       "array([[[21, 21, 12, 33],\n",
       "        [12, 39, 25, 18],\n",
       "        [42, 21, 47, 37],\n",
       "        [14, 16, 25, 31]],\n",
       "\n",
       "       [[37, 25, 37, 35],\n",
       "        [42, 15, 22, 18],\n",
       "        [26, 13, 32, 16],\n",
       "        [35, 42, 28, 39]],\n",
       "\n",
       "       [[22, 15, 37, 28],\n",
       "        [24, 44, 49, 15],\n",
       "        [48, 38, 16, 37],\n",
       "        [46, 36, 40, 15]],\n",
       "\n",
       "       [[27, 33, 23, 43],\n",
       "        [48, 15, 45, 45],\n",
       "        [49, 40, 48, 13],\n",
       "        [18, 38, 34, 43]]])"
      ]
     },
     "execution_count": 47,
     "metadata": {},
     "output_type": "execute_result"
    }
   ],
   "source": [
    "arr"
   ]
  },
  {
   "cell_type": "code",
   "execution_count": 41,
   "id": "35c40309",
   "metadata": {},
   "outputs": [
    {
     "data": {
      "text/plain": [
       "array([21, 21, 12, 33, 12, 39, 25, 18, 42, 21, 47, 37, 14, 16, 25, 31, 37,\n",
       "       25, 37, 35, 42, 15, 22, 18, 26, 13, 32, 16, 35, 42, 28, 39, 22, 15,\n",
       "       37, 28, 24, 44, 49, 15, 48, 38, 16, 37, 46, 36, 40, 15, 27, 33, 23,\n",
       "       43, 48, 15, 45, 45, 49, 40, 48, 13, 18, 38, 34, 43])"
      ]
     },
     "execution_count": 41,
     "metadata": {},
     "output_type": "execute_result"
    }
   ],
   "source": [
    "arr2.ravel()"
   ]
  },
  {
   "cell_type": "code",
   "execution_count": 48,
   "id": "1d9820be",
   "metadata": {},
   "outputs": [
    {
     "data": {
      "text/plain": [
       "array([21, 21, 12, 33, 12, 39, 25, 18, 42, 21, 47, 37, 14, 16, 25, 31, 37,\n",
       "       25, 37, 35, 42, 15, 22, 18, 26, 13, 32, 16, 35, 42, 28, 39, 22, 15,\n",
       "       37, 28, 24, 44, 49, 15, 48, 38, 16, 37, 46, 36, 40, 15, 27, 33, 23,\n",
       "       43, 48, 15, 45, 45, 49, 40, 48, 13, 18, 38, 34, 43])"
      ]
     },
     "execution_count": 48,
     "metadata": {},
     "output_type": "execute_result"
    }
   ],
   "source": [
    "arr3"
   ]
  },
  {
   "cell_type": "code",
   "execution_count": 49,
   "id": "10b4f5d7",
   "metadata": {},
   "outputs": [],
   "source": [
    "arr4=arr3.reshape(4,4,4)"
   ]
  },
  {
   "cell_type": "code",
   "execution_count": 50,
   "id": "6fab3d6a",
   "metadata": {
    "scrolled": true
   },
   "outputs": [
    {
     "data": {
      "text/plain": [
       "array([[[21, 21, 12, 33],\n",
       "        [12, 39, 25, 18],\n",
       "        [42, 21, 47, 37],\n",
       "        [14, 16, 25, 31]],\n",
       "\n",
       "       [[37, 25, 37, 35],\n",
       "        [42, 15, 22, 18],\n",
       "        [26, 13, 32, 16],\n",
       "        [35, 42, 28, 39]],\n",
       "\n",
       "       [[22, 15, 37, 28],\n",
       "        [24, 44, 49, 15],\n",
       "        [48, 38, 16, 37],\n",
       "        [46, 36, 40, 15]],\n",
       "\n",
       "       [[27, 33, 23, 43],\n",
       "        [48, 15, 45, 45],\n",
       "        [49, 40, 48, 13],\n",
       "        [18, 38, 34, 43]]])"
      ]
     },
     "execution_count": 50,
     "metadata": {},
     "output_type": "execute_result"
    }
   ],
   "source": [
    "arr4"
   ]
  },
  {
   "cell_type": "markdown",
   "id": "731bac5e",
   "metadata": {},
   "source": [
    "create 1D array----np.random.randint(start,stop,values)\n",
    "\n",
    "indexing and slicing is same like list or datastruc\n",
    "\n",
    "arr[]\n",
    "\n",
    "arr[start:stop:step]"
   ]
  },
  {
   "cell_type": "markdown",
   "id": "6861b61c",
   "metadata": {},
   "source": [
    "create 2D array----np.random.randint(start,stop,values).reshape(rows,cols)\n",
    "\n",
    "indexing---arr[rows,cols]\n",
    "\n",
    "slicing----[rows slicing:cols slicing]----arr[start:stop:step,start:stop:step]\n",
    "\n"
   ]
  },
  {
   "cell_type": "markdown",
   "id": "00a8a22e",
   "metadata": {},
   "source": [
    "create 3D array----np.random.randint(start,stop,values).reshape(repetitions,rows,cols)\n",
    "\n",
    "indexing---arr[array index,rows,cols]\n",
    "\n",
    "slicing----[arrays slicing:rows slicing:cols slicing]----arr[start:stop:step,start:stop:step,start:stop:step]\n",
    "\n"
   ]
  },
  {
   "cell_type": "markdown",
   "id": "3b0d5a00",
   "metadata": {},
   "source": [
    "convert  1D 2D 3D-----arr.reshape()\n",
    "\n",
    "convert 2D or 3D to 1D----arr.ravel()"
   ]
  },
  {
   "cell_type": "code",
   "execution_count": null,
   "id": "f9b90213",
   "metadata": {},
   "outputs": [],
   "source": []
  },
  {
   "cell_type": "markdown",
   "id": "da06a9cf",
   "metadata": {},
   "source": [
    "# Concatenation"
   ]
  },
  {
   "cell_type": "markdown",
   "id": "81410eac",
   "metadata": {},
   "source": [
    "Concatenation refers to joining. This function is used to join two or more arrays of the same shape along a specified axis. The function takes the following parameters. numpy.concatenate((a1, a2, ...), axis)\n",
    "\n",
    "concatenate two or more arrays along the rows (top-down) or along the columns (left-right)\n",
    "\n",
    "To concatenate along the rows number of columns should be the same in both the arrays.\n",
    "\n",
    "To concatenate along the columns the number of rows should be the same in both the arrays.\n",
    "\n",
    "### np.concatenate((arr_1,arr_2),axis=0)"
   ]
  },
  {
   "cell_type": "code",
   "execution_count": null,
   "id": "47f84a7f",
   "metadata": {},
   "outputs": [],
   "source": [
    "# axis=0- It reads top to bottom==row\n",
    "# axis=1- It reads left to right==col"
   ]
  },
  {
   "cell_type": "code",
   "execution_count": 70,
   "id": "84d9e8eb",
   "metadata": {},
   "outputs": [],
   "source": [
    "arr1=np.random.randint(1,10,8).reshape(2,4)\n",
    "arr2=np.random.randint(11,30,8).reshape(2,4)\n"
   ]
  },
  {
   "cell_type": "code",
   "execution_count": 71,
   "id": "82f63830",
   "metadata": {},
   "outputs": [
    {
     "data": {
      "text/plain": [
       "array([[5, 4, 6, 2],\n",
       "       [9, 5, 7, 5]])"
      ]
     },
     "execution_count": 71,
     "metadata": {},
     "output_type": "execute_result"
    }
   ],
   "source": [
    "arr1"
   ]
  },
  {
   "cell_type": "code",
   "execution_count": 72,
   "id": "99abf2de",
   "metadata": {},
   "outputs": [
    {
     "data": {
      "text/plain": [
       "array([[21, 19, 12, 19],\n",
       "       [14, 27, 15, 12]])"
      ]
     },
     "execution_count": 72,
     "metadata": {},
     "output_type": "execute_result"
    }
   ],
   "source": [
    "arr2"
   ]
  },
  {
   "cell_type": "code",
   "execution_count": 58,
   "id": "1daf7e1e",
   "metadata": {},
   "outputs": [
    {
     "data": {
      "text/plain": [
       "array([[ 1,  9,  6,  7],\n",
       "       [ 8,  9,  8,  6],\n",
       "       [26, 28, 24, 16],\n",
       "       [21, 29, 27, 28]])"
      ]
     },
     "execution_count": 58,
     "metadata": {},
     "output_type": "execute_result"
    }
   ],
   "source": [
    "np.concatenate((arr1,arr2),axis=0)"
   ]
  },
  {
   "cell_type": "code",
   "execution_count": 73,
   "id": "4c7887e1",
   "metadata": {},
   "outputs": [
    {
     "data": {
      "text/plain": [
       "array([[21, 19, 12, 19],\n",
       "       [14, 27, 15, 12],\n",
       "       [ 5,  4,  6,  2],\n",
       "       [ 9,  5,  7,  5]])"
      ]
     },
     "execution_count": 73,
     "metadata": {},
     "output_type": "execute_result"
    }
   ],
   "source": [
    "np.concatenate((arr2,arr1),axis=0)"
   ]
  },
  {
   "cell_type": "code",
   "execution_count": 59,
   "id": "9f0b4dc0",
   "metadata": {},
   "outputs": [
    {
     "data": {
      "text/plain": [
       "array([[ 1,  9,  6,  7, 26, 28, 24, 16],\n",
       "       [ 8,  9,  8,  6, 21, 29, 27, 28]])"
      ]
     },
     "execution_count": 59,
     "metadata": {},
     "output_type": "execute_result"
    }
   ],
   "source": [
    "np.concatenate((arr1,arr2),axis=1)"
   ]
  },
  {
   "cell_type": "code",
   "execution_count": 60,
   "id": "c861b2c8",
   "metadata": {},
   "outputs": [],
   "source": [
    "arr1=np.random.randint(1,10,8).reshape(2,4)\n",
    "arr2=np.random.randint(11,30,18).reshape(3,6)\n"
   ]
  },
  {
   "cell_type": "code",
   "execution_count": 61,
   "id": "9792239b",
   "metadata": {},
   "outputs": [
    {
     "data": {
      "text/plain": [
       "array([[2, 9, 3, 8],\n",
       "       [3, 6, 5, 7]])"
      ]
     },
     "execution_count": 61,
     "metadata": {},
     "output_type": "execute_result"
    }
   ],
   "source": [
    "arr1"
   ]
  },
  {
   "cell_type": "code",
   "execution_count": 62,
   "id": "2cb4f875",
   "metadata": {
    "scrolled": true
   },
   "outputs": [
    {
     "data": {
      "text/plain": [
       "array([[20, 16, 27, 26, 12, 12],\n",
       "       [29, 16, 26, 11, 16, 20],\n",
       "       [14, 19, 27, 13, 19, 19]])"
      ]
     },
     "execution_count": 62,
     "metadata": {},
     "output_type": "execute_result"
    }
   ],
   "source": [
    "arr2"
   ]
  },
  {
   "cell_type": "code",
   "execution_count": 64,
   "id": "c62aa8f3",
   "metadata": {},
   "outputs": [
    {
     "ename": "ValueError",
     "evalue": "all the input array dimensions except for the concatenation axis must match exactly, but along dimension 1, the array at index 0 has size 4 and the array at index 1 has size 6",
     "output_type": "error",
     "traceback": [
      "\u001b[1;31m---------------------------------------------------------------------------\u001b[0m",
      "\u001b[1;31mValueError\u001b[0m                                Traceback (most recent call last)",
      "Cell \u001b[1;32mIn[64], line 1\u001b[0m\n\u001b[1;32m----> 1\u001b[0m np\u001b[38;5;241m.\u001b[39mconcatenate((arr1,arr2),axis\u001b[38;5;241m=\u001b[39m\u001b[38;5;241m0\u001b[39m)\n",
      "File \u001b[1;32m<__array_function__ internals>:200\u001b[0m, in \u001b[0;36mconcatenate\u001b[1;34m(*args, **kwargs)\u001b[0m\n",
      "\u001b[1;31mValueError\u001b[0m: all the input array dimensions except for the concatenation axis must match exactly, but along dimension 1, the array at index 0 has size 4 and the array at index 1 has size 6"
     ]
    }
   ],
   "source": [
    "np.concatenate((arr1,arr2),axis=0)"
   ]
  },
  {
   "cell_type": "code",
   "execution_count": 65,
   "id": "9ec88182",
   "metadata": {},
   "outputs": [],
   "source": [
    "arr=np.arange(6)\n",
    "arr_2=np.arange(10,18)"
   ]
  },
  {
   "cell_type": "code",
   "execution_count": 66,
   "id": "b05e50a3",
   "metadata": {},
   "outputs": [
    {
     "data": {
      "text/plain": [
       "array([0, 1, 2, 3, 4, 5])"
      ]
     },
     "execution_count": 66,
     "metadata": {},
     "output_type": "execute_result"
    }
   ],
   "source": [
    "arr"
   ]
  },
  {
   "cell_type": "code",
   "execution_count": 67,
   "id": "4b7f8bb0",
   "metadata": {},
   "outputs": [
    {
     "data": {
      "text/plain": [
       "array([10, 11, 12, 13, 14, 15, 16, 17])"
      ]
     },
     "execution_count": 67,
     "metadata": {},
     "output_type": "execute_result"
    }
   ],
   "source": [
    "arr_2"
   ]
  },
  {
   "cell_type": "code",
   "execution_count": 69,
   "id": "22e1e3dd",
   "metadata": {},
   "outputs": [
    {
     "data": {
      "text/plain": [
       "array([ 0,  1,  2,  3,  4,  5, 10, 11, 12, 13, 14, 15, 16, 17])"
      ]
     },
     "execution_count": 69,
     "metadata": {},
     "output_type": "execute_result"
    }
   ],
   "source": [
    "np.concatenate((arr,arr_2))"
   ]
  },
  {
   "cell_type": "code",
   "execution_count": 74,
   "id": "efc0f76f",
   "metadata": {},
   "outputs": [
    {
     "name": "stdout",
     "output_type": "stream",
     "text": [
      "[[1 2]\n",
      " [3 4]]\n"
     ]
    }
   ],
   "source": [
    "matrix = np.array([[1, 2], [3, 4]])\n",
    "print(matrix)"
   ]
  },
  {
   "cell_type": "markdown",
   "id": "a1a440af",
   "metadata": {},
   "source": [
    "# operations on matrices"
   ]
  },
  {
   "cell_type": "markdown",
   "id": "c631890b",
   "metadata": {},
   "source": [
    "1)multiplication---scalar product=normal multiplication--Element by element multiplication=arr*5 ,arr*arr2\n",
    "\n",
    "                  dot product=matrix multiplication=number of the columns in the first array should be equal to the number                                     \n",
    "                               of rows in the second array.----### np.dot(arr1,arr2)"
   ]
  },
  {
   "cell_type": "markdown",
   "id": "252d0ccf",
   "metadata": {},
   "source": [
    "2)determinant---np.linalg.det(arr)"
   ]
  },
  {
   "cell_type": "markdown",
   "id": "eb72f3d5",
   "metadata": {},
   "source": [
    "3)np.sum(arr,axis=0/1)....0=row/vertical axis     1=col/horizontal axis\n",
    "\n",
    "4)np.max(arr,axis=0/1)\n",
    "\n",
    "5)np.min(arr,axis=0/1)\n",
    "\n",
    "6)np.mean(arr,axis=0/1)\n",
    "\n",
    "7)np.median(arr,axis=0/1)\n",
    "\n",
    "8)np.percentile(arr,value of percentile)\n",
    "\n",
    "9)np.where(condition) --or--np.where((cond1)&(cond2))--It returns the indexes of all the elements where the condition is satisfied\n",
    "\n",
    "  np.where(condition,x,y)If the condition is True x is the result and if the condition is False then y is the result\n",
    "    np.where(arr>60,60,np.where(arr<30,30,arr))\n",
    "\n",
    "10)np.argwhere(array)----indexes of all element it returns array object\n",
    "\n",
    "11)np.argmax(array)----indexes of max value---It reads the array as a 1-D array(np.ravel()) and accordingly returns the index.\n",
    "We can get the index of the maximum value along the axes.\n",
    "\n",
    "12)np.argmin(array)----indexes of min value\n",
    "\n",
    "13)np.sort(arr)--ascending      descending---np.sort(arr)[::-1]\n",
    "    \n",
    "    In a 2-D array np.sort() sorts each row in ascending order by default\n",
    "      \n",
    "        decending---np.sort(arr)[::,::-1]\n",
    "        \n",
    "              "
   ]
  },
  {
   "cell_type": "markdown",
   "id": "0c975f55",
   "metadata": {},
   "source": [
    "We use bitwise logical operator\n",
    "\n",
    "arr[arr>20]\n",
    "\n",
    "arr[(arr>40)|(arr<70)]"
   ]
  },
  {
   "cell_type": "markdown",
   "id": "76a44fb1",
   "metadata": {},
   "source": [
    "Array is mutable. It means we can change the values.---arr[index]=the value we want to put"
   ]
  },
  {
   "cell_type": "markdown",
   "id": "3cae2861",
   "metadata": {},
   "source": [
    "## Missing values in an array.----np.nan()\n",
    "The datatype of np.nan is float\n",
    "### check how many missing values---np.isnan(arr).sum() or arr[np.isnan(arr)].size"
   ]
  },
  {
   "cell_type": "markdown",
   "id": "c28157f9",
   "metadata": {},
   "source": [
    "## convert the datatype of the elements of an array----as nan cannot convert int value it can covert only float\n",
    "arr.astype(float)"
   ]
  },
  {
   "cell_type": "markdown",
   "id": "7f80fadd",
   "metadata": {},
   "source": [
    "## iterate over an array\n",
    "1D array---same using loop like list\n",
    "\n",
    "2D array--- it returns each row after each iteration\n",
    "\n",
    "             # Get all the elements one by one from a 2-D array using loop\n",
    "\n",
    "for i in arr:\n",
    "\n",
    "    for j in i:\n",
    "    \n",
    "        print(j)\n",
    "        \n",
    "or\n",
    "\n",
    "for i in arr.ravel():\n",
    "\n",
    "     print(i)\n"
   ]
  },
  {
   "cell_type": "markdown",
   "id": "8946e06f",
   "metadata": {},
   "source": [
    "### np.nditer(arr)---returns an iterator object----is use for to iterate elements one by one in 2D and 3Darray\n",
    "\n",
    "for i in np.nditer(arr):\n",
    "\n",
    "     print(i)"
   ]
  },
  {
   "cell_type": "markdown",
   "id": "bd99e3ef",
   "metadata": {},
   "source": [
    "## broadcasting--when we perform operations of 2 different shape it matchs the shape to perform the element by element operations.\n",
    "\n",
    "it describes how numpy treats array with diff shapes during arithmetic operation\n",
    "\n",
    "array  broadcasting array creates an shape automatically\n",
    "\n",
    "the arrays either side should  be same row or col\n",
    "\n"
   ]
  },
  {
   "cell_type": "markdown",
   "id": "5b4ee4ac",
   "metadata": {},
   "source": [
    "## views and copies\n",
    "\n",
    "views--- same like shallow copy \n",
    "\n",
    "         arr.view()---array id diff but if u made change it will affect the original array\n",
    "         \n",
    "copy---deep copy         \n",
    "     \n",
    "       arr.copy()---"
   ]
  }
 ],
 "metadata": {
  "kernelspec": {
   "display_name": "Python 3 (ipykernel)",
   "language": "python",
   "name": "python3"
  },
  "language_info": {
   "codemirror_mode": {
    "name": "ipython",
    "version": 3
   },
   "file_extension": ".py",
   "mimetype": "text/x-python",
   "name": "python",
   "nbconvert_exporter": "python",
   "pygments_lexer": "ipython3",
   "version": "3.11.4"
  }
 },
 "nbformat": 4,
 "nbformat_minor": 5
}
