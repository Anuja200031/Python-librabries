{
 "cells": [
  {
   "cell_type": "code",
   "execution_count": 1,
   "id": "ebdae985",
   "metadata": {},
   "outputs": [],
   "source": [
    "import pandas as pd"
   ]
  },
  {
   "cell_type": "markdown",
   "id": "d7ea1f4e",
   "metadata": {},
   "source": [
    "# series"
   ]
  },
  {
   "cell_type": "code",
   "execution_count": null,
   "id": "5b200649",
   "metadata": {},
   "outputs": [],
   "source": [
    "pd.Series()"
   ]
  },
  {
   "cell_type": "code",
   "execution_count": 5,
   "id": "1fcf4e23",
   "metadata": {},
   "outputs": [],
   "source": [
    "lst=[1,2,3,7,9,0]"
   ]
  },
  {
   "cell_type": "code",
   "execution_count": 7,
   "id": "74226405",
   "metadata": {},
   "outputs": [],
   "source": [
    "ser=pd.Series(lst)"
   ]
  },
  {
   "cell_type": "code",
   "execution_count": 8,
   "id": "cb66885b",
   "metadata": {},
   "outputs": [
    {
     "data": {
      "text/plain": [
       "0    1\n",
       "1    2\n",
       "2    3\n",
       "3    7\n",
       "4    9\n",
       "5    0\n",
       "dtype: int64"
      ]
     },
     "execution_count": 8,
     "metadata": {},
     "output_type": "execute_result"
    }
   ],
   "source": [
    "ser"
   ]
  },
  {
   "cell_type": "code",
   "execution_count": 9,
   "id": "68e3e6b7",
   "metadata": {},
   "outputs": [
    {
     "data": {
      "text/plain": [
       "6"
      ]
     },
     "execution_count": 9,
     "metadata": {},
     "output_type": "execute_result"
    }
   ],
   "source": [
    "ser.size"
   ]
  },
  {
   "cell_type": "code",
   "execution_count": 10,
   "id": "c2074998",
   "metadata": {},
   "outputs": [
    {
     "data": {
      "text/plain": [
       "(6,)"
      ]
     },
     "execution_count": 10,
     "metadata": {},
     "output_type": "execute_result"
    }
   ],
   "source": [
    "ser.shape"
   ]
  },
  {
   "cell_type": "code",
   "execution_count": 12,
   "id": "a7b40132",
   "metadata": {},
   "outputs": [
    {
     "data": {
      "text/plain": [
       "dtype('int64')"
      ]
     },
     "execution_count": 12,
     "metadata": {},
     "output_type": "execute_result"
    }
   ],
   "source": [
    "ser.dtype"
   ]
  },
  {
   "cell_type": "code",
   "execution_count": 13,
   "id": "b1bdc375",
   "metadata": {},
   "outputs": [],
   "source": [
    "ser.name=\"numbers\""
   ]
  },
  {
   "cell_type": "code",
   "execution_count": 14,
   "id": "a5a50777",
   "metadata": {},
   "outputs": [
    {
     "data": {
      "text/plain": [
       "0    1\n",
       "1    2\n",
       "2    3\n",
       "3    7\n",
       "4    9\n",
       "5    0\n",
       "Name: numbers, dtype: int64"
      ]
     },
     "execution_count": 14,
     "metadata": {},
     "output_type": "execute_result"
    }
   ],
   "source": [
    "ser"
   ]
  },
  {
   "cell_type": "code",
   "execution_count": 20,
   "id": "9b0895ac",
   "metadata": {},
   "outputs": [
    {
     "data": {
      "text/plain": [
       "0"
      ]
     },
     "execution_count": 20,
     "metadata": {},
     "output_type": "execute_result"
    }
   ],
   "source": [
    "ser.iloc[-1]#index location=iloc---implicit index----inbuilt index"
   ]
  },
  {
   "cell_type": "code",
   "execution_count": 21,
   "id": "d77c046e",
   "metadata": {},
   "outputs": [],
   "source": [
    "ser.index=list(\"abcdef\")---#user define index=label"
   ]
  },
  {
   "cell_type": "code",
   "execution_count": 22,
   "id": "8d0af330",
   "metadata": {},
   "outputs": [
    {
     "data": {
      "text/plain": [
       "a    1\n",
       "b    2\n",
       "c    3\n",
       "d    7\n",
       "e    9\n",
       "f    0\n",
       "Name: numbers, dtype: int64"
      ]
     },
     "execution_count": 22,
     "metadata": {},
     "output_type": "execute_result"
    }
   ],
   "source": [
    "ser"
   ]
  },
  {
   "cell_type": "code",
   "execution_count": 25,
   "id": "9d3b9000",
   "metadata": {},
   "outputs": [
    {
     "data": {
      "text/plain": [
       "0"
      ]
     },
     "execution_count": 25,
     "metadata": {},
     "output_type": "execute_result"
    }
   ],
   "source": [
    "ser.loc[\"f\"]"
   ]
  },
  {
   "cell_type": "code",
   "execution_count": 26,
   "id": "4cf94a69",
   "metadata": {},
   "outputs": [
    {
     "data": {
      "text/plain": [
       "7"
      ]
     },
     "execution_count": 26,
     "metadata": {},
     "output_type": "execute_result"
    }
   ],
   "source": [
    "ser[\"d\"]"
   ]
  },
  {
   "cell_type": "code",
   "execution_count": 27,
   "id": "c59a10fc",
   "metadata": {},
   "outputs": [
    {
     "data": {
      "text/plain": [
       "a    1\n",
       "b    2\n",
       "c    3\n",
       "d    7\n",
       "e    9\n",
       "Name: numbers, dtype: int64"
      ]
     },
     "execution_count": 27,
     "metadata": {},
     "output_type": "execute_result"
    }
   ],
   "source": [
    "ser[\"a\":\"e\"]#stop is also included"
   ]
  },
  {
   "cell_type": "code",
   "execution_count": 28,
   "id": "ec3f3413",
   "metadata": {},
   "outputs": [
    {
     "data": {
      "text/plain": [
       "a    1\n",
       "b    2\n",
       "c    3\n",
       "d    7\n",
       "Name: numbers, dtype: int64"
      ]
     },
     "execution_count": 28,
     "metadata": {},
     "output_type": "execute_result"
    }
   ],
   "source": [
    "ser[0:4]"
   ]
  },
  {
   "cell_type": "code",
   "execution_count": 29,
   "id": "5a091ba9",
   "metadata": {},
   "outputs": [
    {
     "data": {
      "text/plain": [
       "a    1\n",
       "b    2\n",
       "c    3\n",
       "d    7\n",
       "e    9\n",
       "f    0\n",
       "Name: numbers, dtype: int64"
      ]
     },
     "execution_count": 29,
     "metadata": {},
     "output_type": "execute_result"
    }
   ],
   "source": [
    "ser"
   ]
  },
  {
   "cell_type": "markdown",
   "id": "7fe54dbb",
   "metadata": {},
   "source": [
    "# How to delete a particular value from a series\n",
    "\n",
    "del ser[]---permanently remove\n",
    "\n",
    "ser.drop([])---temprory not make change in existing series    ser.drop([],inplace=True)---make change in existing series\n",
    "   "
   ]
  },
  {
   "cell_type": "code",
   "execution_count": 31,
   "id": "e28d8240",
   "metadata": {},
   "outputs": [],
   "source": [
    "del ser[\"a\"]"
   ]
  },
  {
   "cell_type": "code",
   "execution_count": 32,
   "id": "9f32bd99",
   "metadata": {},
   "outputs": [
    {
     "data": {
      "text/plain": [
       "b    2\n",
       "c    3\n",
       "d    7\n",
       "e    9\n",
       "f    0\n",
       "Name: numbers, dtype: int64"
      ]
     },
     "execution_count": 32,
     "metadata": {},
     "output_type": "execute_result"
    }
   ],
   "source": [
    "ser"
   ]
  },
  {
   "cell_type": "code",
   "execution_count": 36,
   "id": "7c6c67ea",
   "metadata": {},
   "outputs": [
    {
     "data": {
      "text/plain": [
       "b    2\n",
       "d    7\n",
       "e    9\n",
       "f    0\n",
       "Name: numbers, dtype: int64"
      ]
     },
     "execution_count": 36,
     "metadata": {},
     "output_type": "execute_result"
    }
   ],
   "source": [
    "ser.drop([\"c\"])"
   ]
  },
  {
   "cell_type": "code",
   "execution_count": 37,
   "id": "e9b32626",
   "metadata": {},
   "outputs": [
    {
     "data": {
      "text/plain": [
       "b    2\n",
       "c    3\n",
       "d    7\n",
       "e    9\n",
       "f    0\n",
       "Name: numbers, dtype: int64"
      ]
     },
     "execution_count": 37,
     "metadata": {},
     "output_type": "execute_result"
    }
   ],
   "source": [
    "ser"
   ]
  },
  {
   "cell_type": "code",
   "execution_count": 38,
   "id": "00255425",
   "metadata": {},
   "outputs": [],
   "source": [
    "ser.drop([\"c\"],inplace=True)"
   ]
  },
  {
   "cell_type": "code",
   "execution_count": 39,
   "id": "0bb15fc0",
   "metadata": {},
   "outputs": [
    {
     "data": {
      "text/plain": [
       "b    2\n",
       "d    7\n",
       "e    9\n",
       "f    0\n",
       "Name: numbers, dtype: int64"
      ]
     },
     "execution_count": 39,
     "metadata": {},
     "output_type": "execute_result"
    }
   ],
   "source": [
    "ser"
   ]
  },
  {
   "cell_type": "code",
   "execution_count": 40,
   "id": "9b3354e3",
   "metadata": {},
   "outputs": [
    {
     "data": {
      "text/plain": [
       "d    7\n",
       "f    0\n",
       "Name: numbers, dtype: int64"
      ]
     },
     "execution_count": 40,
     "metadata": {},
     "output_type": "execute_result"
    }
   ],
   "source": [
    "ser.drop([\"b\",\"e\"])"
   ]
  },
  {
   "cell_type": "code",
   "execution_count": 41,
   "id": "160d89e6",
   "metadata": {},
   "outputs": [
    {
     "data": {
      "text/plain": [
       "b    2\n",
       "d    7\n",
       "e    9\n",
       "f    0\n",
       "Name: numbers, dtype: int64"
      ]
     },
     "execution_count": 41,
     "metadata": {},
     "output_type": "execute_result"
    }
   ],
   "source": [
    "ser"
   ]
  },
  {
   "cell_type": "markdown",
   "id": "ae5f40fa",
   "metadata": {},
   "source": [
    "# Creating a series using a dictionary"
   ]
  },
  {
   "cell_type": "code",
   "execution_count": 43,
   "id": "5a989c57",
   "metadata": {},
   "outputs": [
    {
     "data": {
      "text/plain": [
       "Name       Suresh\n",
       "Code          101\n",
       "Age            25\n",
       "Address     Noida\n",
       "dtype: object"
      ]
     },
     "execution_count": 43,
     "metadata": {},
     "output_type": "execute_result"
    }
   ],
   "source": [
    "emp={'Name':'Suresh',\n",
    "    'Code':101,\n",
    "    'Age':25,\n",
    "    'Address':'Noida'}\n",
    "emp1=pd.Series(emp)\n",
    "emp1"
   ]
  },
  {
   "cell_type": "code",
   "execution_count": 44,
   "id": "ae5aaa52",
   "metadata": {},
   "outputs": [],
   "source": [
    "emp1.name=\"Employee details\""
   ]
  },
  {
   "cell_type": "code",
   "execution_count": 45,
   "id": "0c6f9b11",
   "metadata": {},
   "outputs": [
    {
     "data": {
      "text/plain": [
       "Name       Suresh\n",
       "Code          101\n",
       "Age            25\n",
       "Address     Noida\n",
       "Name: Employee details, dtype: object"
      ]
     },
     "execution_count": 45,
     "metadata": {},
     "output_type": "execute_result"
    }
   ],
   "source": [
    "emp1"
   ]
  },
  {
   "cell_type": "code",
   "execution_count": 46,
   "id": "653ce29a",
   "metadata": {},
   "outputs": [
    {
     "data": {
      "text/plain": [
       "'Suresh'"
      ]
     },
     "execution_count": 46,
     "metadata": {},
     "output_type": "execute_result"
    }
   ],
   "source": [
    "emp1[0]"
   ]
  },
  {
   "cell_type": "code",
   "execution_count": 47,
   "id": "4c1ca12d",
   "metadata": {},
   "outputs": [
    {
     "data": {
      "text/plain": [
       "101"
      ]
     },
     "execution_count": 47,
     "metadata": {},
     "output_type": "execute_result"
    }
   ],
   "source": [
    "emp1[\"Code\"]"
   ]
  },
  {
   "cell_type": "code",
   "execution_count": 48,
   "id": "8f8b1410",
   "metadata": {},
   "outputs": [
    {
     "data": {
      "text/plain": [
       "dtype('O')"
      ]
     },
     "execution_count": 48,
     "metadata": {},
     "output_type": "execute_result"
    }
   ],
   "source": [
    "emp1.dtype"
   ]
  },
  {
   "cell_type": "markdown",
   "id": "778a0a58",
   "metadata": {},
   "source": [
    "# Series is Mutable----ser[index]=value we want"
   ]
  },
  {
   "cell_type": "code",
   "execution_count": 50,
   "id": "f6eff5c5",
   "metadata": {},
   "outputs": [
    {
     "data": {
      "text/plain": [
       "b    2\n",
       "d    7\n",
       "e    9\n",
       "f    0\n",
       "Name: numbers, dtype: int64"
      ]
     },
     "execution_count": 50,
     "metadata": {},
     "output_type": "execute_result"
    }
   ],
   "source": [
    "ser"
   ]
  },
  {
   "cell_type": "code",
   "execution_count": 52,
   "id": "c1c1c8e1",
   "metadata": {},
   "outputs": [],
   "source": [
    "ser[1],ser[2]=ser[2],ser[1]"
   ]
  },
  {
   "cell_type": "code",
   "execution_count": 53,
   "id": "3bc2372f",
   "metadata": {},
   "outputs": [
    {
     "data": {
      "text/plain": [
       "b    2\n",
       "d    9\n",
       "e    7\n",
       "f    0\n",
       "Name: numbers, dtype: int64"
      ]
     },
     "execution_count": 53,
     "metadata": {},
     "output_type": "execute_result"
    }
   ],
   "source": [
    "ser"
   ]
  },
  {
   "cell_type": "markdown",
   "id": "ec96227e",
   "metadata": {},
   "source": [
    "# insert in series--convert it into a list than insert it----ser.to_list()\n",
    "                              than insert it ----lst.insert(index,value u want to insert)"
   ]
  },
  {
   "cell_type": "code",
   "execution_count": 54,
   "id": "a50e20e7",
   "metadata": {},
   "outputs": [
    {
     "data": {
      "text/plain": [
       "[2, 9, 7, 0]"
      ]
     },
     "execution_count": 54,
     "metadata": {},
     "output_type": "execute_result"
    }
   ],
   "source": [
    "lst=ser.to_list()\n",
    "lst"
   ]
  },
  {
   "cell_type": "code",
   "execution_count": 55,
   "id": "b69c78b5",
   "metadata": {},
   "outputs": [],
   "source": [
    "lst.insert(0,5)"
   ]
  },
  {
   "cell_type": "code",
   "execution_count": 56,
   "id": "6c5d3c7f",
   "metadata": {},
   "outputs": [
    {
     "data": {
      "text/plain": [
       "[5, 2, 9, 7, 0]"
      ]
     },
     "execution_count": 56,
     "metadata": {},
     "output_type": "execute_result"
    }
   ],
   "source": [
    "lst"
   ]
  },
  {
   "cell_type": "code",
   "execution_count": 57,
   "id": "63310117",
   "metadata": {},
   "outputs": [
    {
     "data": {
      "text/plain": [
       "0    5\n",
       "1    2\n",
       "2    9\n",
       "3    7\n",
       "4    0\n",
       "dtype: int64"
      ]
     },
     "execution_count": 57,
     "metadata": {},
     "output_type": "execute_result"
    }
   ],
   "source": [
    "pd.Series(lst)\n"
   ]
  },
  {
   "cell_type": "markdown",
   "id": "ef17fa7b",
   "metadata": {},
   "source": [
    "# Data Frame"
   ]
  },
  {
   "cell_type": "code",
   "execution_count": 58,
   "id": "d2dc1c1d",
   "metadata": {},
   "outputs": [
    {
     "data": {
      "text/html": [
       "<div>\n",
       "<style scoped>\n",
       "    .dataframe tbody tr th:only-of-type {\n",
       "        vertical-align: middle;\n",
       "    }\n",
       "\n",
       "    .dataframe tbody tr th {\n",
       "        vertical-align: top;\n",
       "    }\n",
       "\n",
       "    .dataframe thead th {\n",
       "        text-align: right;\n",
       "    }\n",
       "</style>\n",
       "<table border=\"1\" class=\"dataframe\">\n",
       "  <thead>\n",
       "    <tr style=\"text-align: right;\">\n",
       "      <th></th>\n",
       "    </tr>\n",
       "  </thead>\n",
       "  <tbody>\n",
       "  </tbody>\n",
       "</table>\n",
       "</div>"
      ],
      "text/plain": [
       "Empty DataFrame\n",
       "Columns: []\n",
       "Index: []"
      ]
     },
     "execution_count": 58,
     "metadata": {},
     "output_type": "execute_result"
    }
   ],
   "source": [
    "pd.DataFrame()"
   ]
  },
  {
   "cell_type": "markdown",
   "id": "106f89cb",
   "metadata": {},
   "source": [
    "# creating a dataframe"
   ]
  },
  {
   "cell_type": "markdown",
   "id": "f766cc6d",
   "metadata": {},
   "source": [
    "dictionary"
   ]
  },
  {
   "cell_type": "code",
   "execution_count": 59,
   "id": "ce803b69",
   "metadata": {},
   "outputs": [],
   "source": [
    "emp={'Name':['Akshata','Sai Jyothi','Mahesh','Puneet','Sakina','Amrith','Arvind'],\n",
    "    'Code':[101,102,103,104,105,106,107],\n",
    "    'City':['Delhi','Pune','Mumbai','Dehradun','Chennai','Bangalore','Noida']}"
   ]
  },
  {
   "cell_type": "code",
   "execution_count": 60,
   "id": "0caa7793",
   "metadata": {},
   "outputs": [
    {
     "data": {
      "text/html": [
       "<div>\n",
       "<style scoped>\n",
       "    .dataframe tbody tr th:only-of-type {\n",
       "        vertical-align: middle;\n",
       "    }\n",
       "\n",
       "    .dataframe tbody tr th {\n",
       "        vertical-align: top;\n",
       "    }\n",
       "\n",
       "    .dataframe thead th {\n",
       "        text-align: right;\n",
       "    }\n",
       "</style>\n",
       "<table border=\"1\" class=\"dataframe\">\n",
       "  <thead>\n",
       "    <tr style=\"text-align: right;\">\n",
       "      <th></th>\n",
       "      <th>Name</th>\n",
       "      <th>Code</th>\n",
       "      <th>City</th>\n",
       "    </tr>\n",
       "  </thead>\n",
       "  <tbody>\n",
       "    <tr>\n",
       "      <th>0</th>\n",
       "      <td>Akshata</td>\n",
       "      <td>101</td>\n",
       "      <td>Delhi</td>\n",
       "    </tr>\n",
       "    <tr>\n",
       "      <th>1</th>\n",
       "      <td>Sai Jyothi</td>\n",
       "      <td>102</td>\n",
       "      <td>Pune</td>\n",
       "    </tr>\n",
       "    <tr>\n",
       "      <th>2</th>\n",
       "      <td>Mahesh</td>\n",
       "      <td>103</td>\n",
       "      <td>Mumbai</td>\n",
       "    </tr>\n",
       "    <tr>\n",
       "      <th>3</th>\n",
       "      <td>Puneet</td>\n",
       "      <td>104</td>\n",
       "      <td>Dehradun</td>\n",
       "    </tr>\n",
       "    <tr>\n",
       "      <th>4</th>\n",
       "      <td>Sakina</td>\n",
       "      <td>105</td>\n",
       "      <td>Chennai</td>\n",
       "    </tr>\n",
       "    <tr>\n",
       "      <th>5</th>\n",
       "      <td>Amrith</td>\n",
       "      <td>106</td>\n",
       "      <td>Bangalore</td>\n",
       "    </tr>\n",
       "    <tr>\n",
       "      <th>6</th>\n",
       "      <td>Arvind</td>\n",
       "      <td>107</td>\n",
       "      <td>Noida</td>\n",
       "    </tr>\n",
       "  </tbody>\n",
       "</table>\n",
       "</div>"
      ],
      "text/plain": [
       "         Name  Code       City\n",
       "0     Akshata   101      Delhi\n",
       "1  Sai Jyothi   102       Pune\n",
       "2      Mahesh   103     Mumbai\n",
       "3      Puneet   104   Dehradun\n",
       "4      Sakina   105    Chennai\n",
       "5      Amrith   106  Bangalore\n",
       "6      Arvind   107      Noida"
      ]
     },
     "execution_count": 60,
     "metadata": {},
     "output_type": "execute_result"
    }
   ],
   "source": [
    "pd.DataFrame(emp)"
   ]
  },
  {
   "cell_type": "markdown",
   "id": "724a7b98",
   "metadata": {},
   "source": [
    "### change the sequence of the columns---pd.DataFrame(emp,columns=[\"Code\",\"Name\",\"City\"])"
   ]
  },
  {
   "cell_type": "markdown",
   "id": "dd26561f",
   "metadata": {},
   "source": [
    "### add a new columns--pd.DataFrame(emp,columns=[\"Code\",'Name','City','Department','Phone']) or \n",
    "                                    data['Type']='IT'---- directly adding column and providing data"
   ]
  },
  {
   "cell_type": "markdown",
   "id": "dcc79d6f",
   "metadata": {},
   "source": [
    "### adding data into columns---data[ ]=\n",
    "\n",
    "data=pd.DataFrame(emp,columns=['Code','Name','City','Department','Phone'])\n",
    "\n",
    "data\n",
    "\n",
    "data[\"Company\"]=['Learnbay','Wipro','Infosys','TCS','Accenture','Microsoft','HCL']"
   ]
  },
  {
   "cell_type": "markdown",
   "id": "cdd305d3",
   "metadata": {},
   "source": [
    "# Create a data frame using list"
   ]
  },
  {
   "cell_type": "code",
   "execution_count": 2,
   "id": "654f14b2",
   "metadata": {},
   "outputs": [],
   "source": [
    "import pandas as pd"
   ]
  },
  {
   "cell_type": "code",
   "execution_count": 3,
   "id": "f1c265b3",
   "metadata": {},
   "outputs": [
    {
     "data": {
      "text/html": [
       "<div>\n",
       "<style scoped>\n",
       "    .dataframe tbody tr th:only-of-type {\n",
       "        vertical-align: middle;\n",
       "    }\n",
       "\n",
       "    .dataframe tbody tr th {\n",
       "        vertical-align: top;\n",
       "    }\n",
       "\n",
       "    .dataframe thead th {\n",
       "        text-align: right;\n",
       "    }\n",
       "</style>\n",
       "<table border=\"1\" class=\"dataframe\">\n",
       "  <thead>\n",
       "    <tr style=\"text-align: right;\">\n",
       "      <th></th>\n",
       "      <th>0</th>\n",
       "    </tr>\n",
       "  </thead>\n",
       "  <tbody>\n",
       "    <tr>\n",
       "      <th>0</th>\n",
       "      <td>Akshata</td>\n",
       "    </tr>\n",
       "    <tr>\n",
       "      <th>1</th>\n",
       "      <td>Sai Jyothi</td>\n",
       "    </tr>\n",
       "    <tr>\n",
       "      <th>2</th>\n",
       "      <td>Mahesh</td>\n",
       "    </tr>\n",
       "    <tr>\n",
       "      <th>3</th>\n",
       "      <td>Puneet</td>\n",
       "    </tr>\n",
       "    <tr>\n",
       "      <th>4</th>\n",
       "      <td>Sakina</td>\n",
       "    </tr>\n",
       "    <tr>\n",
       "      <th>5</th>\n",
       "      <td>Amrith</td>\n",
       "    </tr>\n",
       "    <tr>\n",
       "      <th>6</th>\n",
       "      <td>Arvind</td>\n",
       "    </tr>\n",
       "  </tbody>\n",
       "</table>\n",
       "</div>"
      ],
      "text/plain": [
       "            0\n",
       "0     Akshata\n",
       "1  Sai Jyothi\n",
       "2      Mahesh\n",
       "3      Puneet\n",
       "4      Sakina\n",
       "5      Amrith\n",
       "6      Arvind"
      ]
     },
     "execution_count": 3,
     "metadata": {},
     "output_type": "execute_result"
    }
   ],
   "source": [
    "names=['Akshata','Sai Jyothi','Mahesh','Puneet','Sakina','Amrith','Arvind']\n",
    "pd.DataFrame(names)"
   ]
  },
  {
   "cell_type": "code",
   "execution_count": 8,
   "id": "b6260770",
   "metadata": {},
   "outputs": [],
   "source": [
    "df=pd.DataFrame(names,columns=[\"Names\"])"
   ]
  },
  {
   "cell_type": "code",
   "execution_count": 9,
   "id": "215d1bb1",
   "metadata": {},
   "outputs": [
    {
     "data": {
      "text/html": [
       "<div>\n",
       "<style scoped>\n",
       "    .dataframe tbody tr th:only-of-type {\n",
       "        vertical-align: middle;\n",
       "    }\n",
       "\n",
       "    .dataframe tbody tr th {\n",
       "        vertical-align: top;\n",
       "    }\n",
       "\n",
       "    .dataframe thead th {\n",
       "        text-align: right;\n",
       "    }\n",
       "</style>\n",
       "<table border=\"1\" class=\"dataframe\">\n",
       "  <thead>\n",
       "    <tr style=\"text-align: right;\">\n",
       "      <th></th>\n",
       "      <th>Names</th>\n",
       "    </tr>\n",
       "  </thead>\n",
       "  <tbody>\n",
       "    <tr>\n",
       "      <th>0</th>\n",
       "      <td>Akshata</td>\n",
       "    </tr>\n",
       "    <tr>\n",
       "      <th>1</th>\n",
       "      <td>Sai Jyothi</td>\n",
       "    </tr>\n",
       "    <tr>\n",
       "      <th>2</th>\n",
       "      <td>Mahesh</td>\n",
       "    </tr>\n",
       "    <tr>\n",
       "      <th>3</th>\n",
       "      <td>Puneet</td>\n",
       "    </tr>\n",
       "    <tr>\n",
       "      <th>4</th>\n",
       "      <td>Sakina</td>\n",
       "    </tr>\n",
       "    <tr>\n",
       "      <th>5</th>\n",
       "      <td>Amrith</td>\n",
       "    </tr>\n",
       "    <tr>\n",
       "      <th>6</th>\n",
       "      <td>Arvind</td>\n",
       "    </tr>\n",
       "  </tbody>\n",
       "</table>\n",
       "</div>"
      ],
      "text/plain": [
       "        Names\n",
       "0     Akshata\n",
       "1  Sai Jyothi\n",
       "2      Mahesh\n",
       "3      Puneet\n",
       "4      Sakina\n",
       "5      Amrith\n",
       "6      Arvind"
      ]
     },
     "execution_count": 9,
     "metadata": {},
     "output_type": "execute_result"
    }
   ],
   "source": [
    "df"
   ]
  },
  {
   "cell_type": "code",
   "execution_count": 14,
   "id": "e3d6591d",
   "metadata": {},
   "outputs": [
    {
     "data": {
      "text/html": [
       "<div>\n",
       "<style scoped>\n",
       "    .dataframe tbody tr th:only-of-type {\n",
       "        vertical-align: middle;\n",
       "    }\n",
       "\n",
       "    .dataframe tbody tr th {\n",
       "        vertical-align: top;\n",
       "    }\n",
       "\n",
       "    .dataframe thead th {\n",
       "        text-align: right;\n",
       "    }\n",
       "</style>\n",
       "<table border=\"1\" class=\"dataframe\">\n",
       "  <thead>\n",
       "    <tr style=\"text-align: right;\">\n",
       "      <th></th>\n",
       "      <th>num</th>\n",
       "    </tr>\n",
       "  </thead>\n",
       "  <tbody>\n",
       "    <tr>\n",
       "      <th>0</th>\n",
       "      <td>Akshata</td>\n",
       "    </tr>\n",
       "    <tr>\n",
       "      <th>1</th>\n",
       "      <td>Sai Jyothi</td>\n",
       "    </tr>\n",
       "    <tr>\n",
       "      <th>2</th>\n",
       "      <td>Mahesh</td>\n",
       "    </tr>\n",
       "    <tr>\n",
       "      <th>3</th>\n",
       "      <td>Puneet</td>\n",
       "    </tr>\n",
       "    <tr>\n",
       "      <th>4</th>\n",
       "      <td>Sakina</td>\n",
       "    </tr>\n",
       "    <tr>\n",
       "      <th>5</th>\n",
       "      <td>Amrith</td>\n",
       "    </tr>\n",
       "    <tr>\n",
       "      <th>6</th>\n",
       "      <td>Arvind</td>\n",
       "    </tr>\n",
       "  </tbody>\n",
       "</table>\n",
       "</div>"
      ],
      "text/plain": [
       "          num\n",
       "0     Akshata\n",
       "1  Sai Jyothi\n",
       "2      Mahesh\n",
       "3      Puneet\n",
       "4      Sakina\n",
       "5      Amrith\n",
       "6      Arvind"
      ]
     },
     "execution_count": 14,
     "metadata": {},
     "output_type": "execute_result"
    }
   ],
   "source": [
    "df.rename(columns={\"Names\":\"num\"})"
   ]
  },
  {
   "cell_type": "code",
   "execution_count": null,
   "id": "19029125",
   "metadata": {},
   "outputs": [],
   "source": []
  },
  {
   "cell_type": "code",
   "execution_count": null,
   "id": "c984dbfa",
   "metadata": {},
   "outputs": [],
   "source": []
  },
  {
   "cell_type": "markdown",
   "id": "df282ec9",
   "metadata": {},
   "source": [
    "### Renaming columns\n",
    "df = df.rename(columns={'Age': 'Years'})\n"
   ]
  },
  {
   "cell_type": "markdown",
   "id": "6fc127ff",
   "metadata": {},
   "source": [
    "# Creating a dataframe using 2 or more lists---"
   ]
  },
  {
   "cell_type": "markdown",
   "id": "5c3c2c27",
   "metadata": {},
   "source": [
    "zip----pd.DataFrame(list(zip(name,code)),columns=['Name','ID'])"
   ]
  },
  {
   "cell_type": "markdown",
   "id": "7afa5422",
   "metadata": {},
   "source": [
    "# Create a dataframe using a 2-D list"
   ]
  },
  {
   "cell_type": "code",
   "execution_count": 63,
   "id": "79fa07a2",
   "metadata": {},
   "outputs": [],
   "source": [
    "lst=[['Akshata',101,25],['Sai Jyothi',102,24],['Mahesh',103,26],['Puneet',104,25],['Sakina',105,24],['Amrith',106,26],['Arvind',107,24]]"
   ]
  },
  {
   "cell_type": "code",
   "execution_count": 66,
   "id": "1a5c3060",
   "metadata": {},
   "outputs": [
    {
     "data": {
      "text/html": [
       "<div>\n",
       "<style scoped>\n",
       "    .dataframe tbody tr th:only-of-type {\n",
       "        vertical-align: middle;\n",
       "    }\n",
       "\n",
       "    .dataframe tbody tr th {\n",
       "        vertical-align: top;\n",
       "    }\n",
       "\n",
       "    .dataframe thead th {\n",
       "        text-align: right;\n",
       "    }\n",
       "</style>\n",
       "<table border=\"1\" class=\"dataframe\">\n",
       "  <thead>\n",
       "    <tr style=\"text-align: right;\">\n",
       "      <th></th>\n",
       "      <th>name</th>\n",
       "      <th>code</th>\n",
       "      <th>age</th>\n",
       "    </tr>\n",
       "  </thead>\n",
       "  <tbody>\n",
       "    <tr>\n",
       "      <th>0</th>\n",
       "      <td>Akshata</td>\n",
       "      <td>101</td>\n",
       "      <td>25</td>\n",
       "    </tr>\n",
       "    <tr>\n",
       "      <th>1</th>\n",
       "      <td>Sai Jyothi</td>\n",
       "      <td>102</td>\n",
       "      <td>24</td>\n",
       "    </tr>\n",
       "    <tr>\n",
       "      <th>2</th>\n",
       "      <td>Mahesh</td>\n",
       "      <td>103</td>\n",
       "      <td>26</td>\n",
       "    </tr>\n",
       "    <tr>\n",
       "      <th>3</th>\n",
       "      <td>Puneet</td>\n",
       "      <td>104</td>\n",
       "      <td>25</td>\n",
       "    </tr>\n",
       "    <tr>\n",
       "      <th>4</th>\n",
       "      <td>Sakina</td>\n",
       "      <td>105</td>\n",
       "      <td>24</td>\n",
       "    </tr>\n",
       "    <tr>\n",
       "      <th>5</th>\n",
       "      <td>Amrith</td>\n",
       "      <td>106</td>\n",
       "      <td>26</td>\n",
       "    </tr>\n",
       "    <tr>\n",
       "      <th>6</th>\n",
       "      <td>Arvind</td>\n",
       "      <td>107</td>\n",
       "      <td>24</td>\n",
       "    </tr>\n",
       "  </tbody>\n",
       "</table>\n",
       "</div>"
      ],
      "text/plain": [
       "         name  code  age\n",
       "0     Akshata   101   25\n",
       "1  Sai Jyothi   102   24\n",
       "2      Mahesh   103   26\n",
       "3      Puneet   104   25\n",
       "4      Sakina   105   24\n",
       "5      Amrith   106   26\n",
       "6      Arvind   107   24"
      ]
     },
     "execution_count": 66,
     "metadata": {},
     "output_type": "execute_result"
    }
   ],
   "source": [
    "pd.DataFrame(lst,columns=[\"name\",\"code\",\"age\"])"
   ]
  },
  {
   "cell_type": "markdown",
   "id": "5ffc53d2",
   "metadata": {},
   "source": [
    "# Creating a dataframe using series objects"
   ]
  },
  {
   "cell_type": "markdown",
   "id": "df0276e0",
   "metadata": {},
   "source": [
    "pd.DataFrame(list(zip()))\n",
    "\n",
    "or\n",
    "\n",
    "pd.DataFrame({'Name':ser_name,\n",
    "\n",
    "             'Code':ser_code,\n",
    "             \n",
    "             'City':ser_city},columns=['City','Name','Code'])"
   ]
  },
  {
   "cell_type": "markdown",
   "id": "8f023c0a",
   "metadata": {},
   "source": [
    "# Concatenation of dataframes----join 2 dataframes pd.concat([dataframe_1,dataframe_2],axis=0,ignore_index=True(to get  continue indexes))"
   ]
  },
  {
   "cell_type": "markdown",
   "id": "0fa6d9a4",
   "metadata": {},
   "source": [
    "# Indexing and Slicing of a dataframe\n",
    "User defined indexes, also alled as labels\n",
    "\n",
    "data.index=list('abcdefg')"
   ]
  },
  {
   "cell_type": "code",
   "execution_count": 1,
   "id": "abc65f8e",
   "metadata": {},
   "outputs": [],
   "source": [
    "# To fetch the data on the basis of implicit indexes we use .iloc method\n",
    "# To fetch the data on the basis of labels we use .loc method"
   ]
  },
  {
   "cell_type": "code",
   "execution_count": null,
   "id": "5eb179e1",
   "metadata": {},
   "outputs": [],
   "source": [
    "data.iloc[[4]]....#double squre brack...\n",
    "e\tSakina\t105\tChennai# it gives is dataframe format"
   ]
  },
  {
   "cell_type": "code",
   "execution_count": null,
   "id": "9fcb95af",
   "metadata": {},
   "outputs": [],
   "source": [
    "data.iloc[4]..#single sq brac...\n",
    "Name     Sakina\n",
    "Code        105\n",
    "City    Chennai\n",
    "Name: e, dtype: object       #it gives in series format"
   ]
  },
  {
   "cell_type": "code",
   "execution_count": null,
   "id": "0cedea91",
   "metadata": {},
   "outputs": [],
   "source": [
    "data.iloc[0,0]...# specific element..[row,col]\n",
    "'Akshata'"
   ]
  },
  {
   "cell_type": "code",
   "execution_count": null,
   "id": "c46ad42f",
   "metadata": {},
   "outputs": [],
   "source": [
    "#in slicing we can use single square brac...data[start:stop:step]"
   ]
  },
  {
   "cell_type": "markdown",
   "id": "fda14517",
   "metadata": {},
   "source": [
    "# How to import a csv file"
   ]
  },
  {
   "cell_type": "code",
   "execution_count": null,
   "id": "9690f363",
   "metadata": {},
   "outputs": [],
   "source": [
    "pd.read_csv(r\"path\")"
   ]
  },
  {
   "cell_type": "markdown",
   "id": "515c4a30",
   "metadata": {},
   "source": [
    "# head()---returns first 5 rows\n",
    "# tail()---returns last 5 rows\n",
    "\n",
    "head(no of rows we want)\n",
    "\n",
    "tails(no of rows we want)"
   ]
  },
  {
   "cell_type": "markdown",
   "id": "7b1e7ab2",
   "metadata": {},
   "source": [
    "# data.shape---gives (rows,cols)\n",
    "# data.columns---gives names of all columns\n",
    "# data.describe()---It returns some statistical measures of the dataset.like count,mean,std,min,max,25%,50%,70%\n",
    "                    #It is applicable only on numeric columns\n",
    "# data.info()--It gives some information about the dataset---it tells Non-Null Count in each col\n",
    "# data.nunique()---It returns the number of unique values in each column means This function is handy when you want to quickly determine how many different items or categories exist within a specific dataset column.\n",
    "                   #unique we check for columns only means duplicate values and for rows we say duplicate values\n",
    "# How to access a particular column---data.column_name / data[\"col_name\"]=gives in series format\n",
    "                                     # data[[\"col_name\"]] / data[[\"col_name\",\"col_name\",..]]=gives dataframe format\n",
    "# slicing---[rows slicing,cols slicing]...data.iloc[0:10,0:8]  data.loc[0:78,\"Survived\":\"Age\"]\n",
    "# data.col_name.unique()--It returns the unique values in a particular column\n",
    "# value_counts()--It returns the count of the unique values in a column\n",
    "                  # data.col_name.value_counts()---gives total no\n",
    "                  # data.col_name.value_counts()*100/len(data)---gives percent\n",
    "                  # data.col_name.value_counts(dropna=False)---dropna = false gives total no of null values\n",
    "# Handling the nan values\n",
    "1- We can drop the null values\n",
    "2- We can fill the null values with some other values\n",
    "### data.dropna()...inplace=True...change existing data      data.dropna().reset_index()...reset index again from 0\n",
    "It drops all the rows that have atleast one null value\n",
    "### data.dropna(how=\"any\"/\"all\")....any--drop row if any nan value it is same like dropna & all---Drop the rows that have all the values as null values\n",
    "### data.col_name.fillna(value)---data.Age.fillna(data.Age.mean(),inplace=True)\n",
    "In a discrete column we fill the null values by mean or median value.---data.col_name.mean/median()\n",
    "In a categorical column we fill the null values by mode value.---data.col_name.mode()[0/1...]\n",
    "[0] after mode(), it indicates that you're accessing the first mode value from the resulting Series, which is typically the primary mode in the context of handling missing values.\n",
    "# Dropping the columns--data.drop(column_name,axis=1,inplace=True)\n",
    "# drop multiple columns--data.drop(['PassengerId','Cabin','Name'],axis=1,inplace=True)\n",
    "# Dropping the rows---data.drop(row_index,axis=0)\n",
    "# drop multiple rows---data.drop([0,2,5]).reset_index())\n",
    "\n",
    "\n",
    "\n",
    "\n",
    "    \n",
    "    \n",
    "    \n",
    "    \n",
    "    \n",
    "    \n",
    "    \n",
    "    \n",
    "    \n",
    "    \n",
    "    \n",
    "    "
   ]
  },
  {
   "cell_type": "markdown",
   "id": "9a3b8738",
   "metadata": {},
   "source": [
    "# filter the data----you can use various techniques and conditions to extract rows that meet specific criteria. Here's an example of how to filter data based on a condition:"
   ]
  },
  {
   "cell_type": "markdown",
   "id": "3b690b9f",
   "metadata": {},
   "source": [
    "# groupby()---It is used to compare two or more columns together and get some aggregation"
   ]
  },
  {
   "cell_type": "markdown",
   "id": "7b6c4764",
   "metadata": {},
   "source": [
    "# Transformation of the Data--we use logic ex np.where(cond,x,y)"
   ]
  },
  {
   "cell_type": "markdown",
   "id": "8b0d2eb0",
   "metadata": {},
   "source": [
    "# clip()--It is used to cap the values between lower and upper limit in a column means min and max value\n",
    "np.where(cond,x,np.where(cond,x,y)) or\n",
    "\n",
    "data.clip(lower=value,upper=value)---easy way"
   ]
  },
  {
   "cell_type": "markdown",
   "id": "74624880",
   "metadata": {},
   "source": [
    "# data.col_nme.apply()--Inside apply() we use lambda().By using apply() we can transform the values in any column"
   ]
  },
  {
   "cell_type": "markdown",
   "id": "90bda5a2",
   "metadata": {},
   "source": [
    "# melt()---It is used to reshape the dataset."
   ]
  },
  {
   "cell_type": "markdown",
   "id": "b3363094",
   "metadata": {},
   "source": [
    "In pandas, the melt function is used to reshape or transform a DataFrame from a wide format to a long format.\n",
    "This operation is particularly useful when you have a DataFrame where columns represent variables or categories, \n",
    "and you want to gather these columns into rows, possibly with new columns to identify the original variable or category.\n",
    "This can make the data more suitable for various types of analysis and visualization.\n",
    "\n",
    "Here's the basic syntax of the melt function in pandas:\n",
    "\n",
    "pandas.melt(frame, id_vars=None, value_vars=None, var_name=None, value_name='value', col_level=None)\n",
    "\n",
    "frame: The DataFrame you want to melt.\n",
    "id_vars: Columns to be kept as-is in the melted DataFrame, i.e., columns that you don't want to transform. These columns will become the \"identifier variables.\"\n",
    "value_vars: Columns to be melted (unpivoted) into rows. If not specified, all columns not in id_vars will be melted.\n",
    "var_name: The name of the new column that will store the variable (column name) corresponding to the values.\n",
    "value_name: The name of the new column that will store the values from the melted columns.\n",
    "col_level: If the input DataFrame has multi-level columns, this parameter specifies the level from which to melt.\n"
   ]
  },
  {
   "cell_type": "markdown",
   "id": "bffa34b8",
   "metadata": {},
   "source": [
    "# merge()--merging refers to the process of combining two or more dataframes based on a common column or index. It is similar to SQL JOIN operations and is a fundamental operation when working with tabular data. Pandas provides several functions for merging dataframes, including merge(), concat(), and join(). Here, I will focus on the merge() function, which is commonly used for merging dataframes in pandas.\n",
    "\n",
    "The basic syntax of the merge() function is as follows:\n",
    "\n",
    "merged_df = pd.merge(left, right, how='inner', on=None, left_on=None, right_on=None, left_index=False, right_index=False, suffixes=('_x', '_y'))\n",
    "\n",
    "Let's break down the key parameters of the merge() function:\n",
    "\n",
    "left and right: The dataframes you want to merge.\n",
    "\n",
    "how: Specifies the type of merge to be performed. Common options include:\n",
    "\n",
    "'inner': This performs an inner join, which returns only the rows with matching values in both dataframes.\n",
    "'outer': This performs an outer join, which returns all rows from both dataframes and fills in missing values with NaN.\n",
    "'left': This performs a left join, which returns all rows from the left dataframe and the matching rows from the right dataframe.\n",
    "'right': This performs a right join, which returns all rows from the right dataframe and the matching rows from the left dataframe.\n",
    "on: The column(s) on which to join the dataframes. This should be specified if the dataframes have a common column name.\n",
    "\n",
    "left_on and right_on: If the dataframes don't share a common column name, you can specify the columns from the left and right dataframes to use for the join.\n",
    "\n",
    "left_index and right_index: Set to True if you want to use the dataframe indices for merging instead of columns.\n",
    "\n",
    "suffixes: If there are overlapping column names in the left and right dataframes, you can specify suffixes to distinguish them in the merged dataframe."
   ]
  },
  {
   "cell_type": "markdown",
   "id": "cf9996fa",
   "metadata": {},
   "source": [
    "# pivot_table()--data.pivot_table(index=,columns=,values=)"
   ]
  },
  {
   "cell_type": "markdown",
   "id": "5cc400b5",
   "metadata": {},
   "source": [
    "In pandas, the pivot_table() function is used to create a spreadsheet-style pivot table from a given dataframe. A pivot table allows you to summarize and analyze data by aggregating and reshaping it, typically using one or more columns as rows, columns, and values in the table.\n",
    "\n",
    "Here's the basic syntax for pivot_table():\n",
    "\n",
    "pd.pivot_table(data, values=None, index=None, columns=None, aggfunc='mean', fill_value=None, margins=False, margins_name='All', dropna=True, observed=False)\n",
    "Let's break down the key parameters of the pivot_table() function:\n",
    "\n",
    "data: The dataframe containing the data you want to pivot.\n",
    "\n",
    "values: The column(s) whose values will be aggregated in the pivot table. You can specify one or more columns as a list.\n",
    "\n",
    "index: The column(s) to be used as the index (rows) in the pivot table. This represents the unique identifiers for each row in the pivot table.\n",
    "\n",
    "columns: The column(s) to be used as the columns in the pivot table. These represent the categories or groups by which the data will be segmented horizontally.\n",
    "\n",
    "aggfunc: The aggregation function to be applied to the values in the pivot table. Common aggregation functions include 'mean', 'sum', 'count', 'min', 'max', etc.\n",
    "\n",
    "fill_value: An optional parameter to specify a value to fill missing entries in the pivot table.\n",
    "\n",
    "margins: If set to True, it adds row and column margins to the pivot table, which display totals for rows and columns. Default is False.\n",
    "\n",
    "margins_name: The name for the row and column margins if margins is set to True.\n",
    "\n",
    "dropna: If set to True, it excludes columns with all NaN values from the pivot table. Default is True.\n",
    "\n",
    "observed: If set to True, it only shows observed values for categorical groupings. This is used when working with categorical data and specifying aggfunc='mean'.\n",
    "\n",
    "Here's an example of how to use pivot_table():\n",
    "\n"
   ]
  },
  {
   "cell_type": "markdown",
   "id": "26792856",
   "metadata": {},
   "source": [
    "# How to iterate over a dataset?"
   ]
  },
  {
   "cell_type": "code",
   "execution_count": null,
   "id": "b8fee8ae",
   "metadata": {},
   "outputs": [],
   "source": [
    "#gives col names only\n",
    "for i in data:\n",
    "    print(i)"
   ]
  },
  {
   "cell_type": "code",
   "execution_count": null,
   "id": "48683740",
   "metadata": {},
   "outputs": [],
   "source": [
    "# get row wwise\n",
    "data.iterrows()\n",
    "You can use the iterrows() method to iterate row by row. It returns an iterator that yields pairs of index \n",
    "and row data as Series.\n",
    "However, this method can be slow for large DataFrames."
   ]
  },
  {
   "cell_type": "code",
   "execution_count": null,
   "id": "c93e1c08",
   "metadata": {},
   "outputs": [],
   "source": [
    "# get col wise\n",
    "data.iteritems()\n",
    "iteritems() is used to iterate over the columns of the DataFrame df. \n",
    "For each iteration, you get the column name (column_name) \n",
    "and the corresponding column data (column_data) as a pandas Series."
   ]
  },
  {
   "cell_type": "code",
   "execution_count": null,
   "id": "24eb5277",
   "metadata": {},
   "outputs": [],
   "source": [
    "# data.itertuples()\n",
    "It returns the named tuples"
   ]
  },
  {
   "cell_type": "markdown",
   "id": "474f3fae",
   "metadata": {},
   "source": [
    "# How to export a dataset to a csv or excel file"
   ]
  },
  {
   "cell_type": "code",
   "execution_count": null,
   "id": "d7259f0d",
   "metadata": {},
   "outputs": [],
   "source": [
    "# data.to_csv('file_name.csv')\n",
    "# data.to_excel('file_name.xlsx')"
   ]
  },
  {
   "cell_type": "code",
   "execution_count": null,
   "id": "276032d0",
   "metadata": {},
   "outputs": [],
   "source": []
  },
  {
   "cell_type": "code",
   "execution_count": null,
   "id": "53fb72c5",
   "metadata": {},
   "outputs": [],
   "source": []
  },
  {
   "cell_type": "code",
   "execution_count": null,
   "id": "4d3d8d28",
   "metadata": {},
   "outputs": [],
   "source": []
  }
 ],
 "metadata": {
  "kernelspec": {
   "display_name": "Python 3 (ipykernel)",
   "language": "python",
   "name": "python3"
  },
  "language_info": {
   "codemirror_mode": {
    "name": "ipython",
    "version": 3
   },
   "file_extension": ".py",
   "mimetype": "text/x-python",
   "name": "python",
   "nbconvert_exporter": "python",
   "pygments_lexer": "ipython3",
   "version": "3.11.4"
  }
 },
 "nbformat": 4,
 "nbformat_minor": 5
}
