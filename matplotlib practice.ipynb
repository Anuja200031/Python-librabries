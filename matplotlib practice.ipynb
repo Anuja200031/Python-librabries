{
 "cells": [
  {
   "cell_type": "code",
   "execution_count": null,
   "id": "556b6538",
   "metadata": {},
   "outputs": [],
   "source": [
    "use to visualise the data.\n",
    "pyplot module in matplotlib is used to plot the data."
   ]
  },
  {
   "cell_type": "code",
   "execution_count": 2,
   "id": "7179b7aa",
   "metadata": {},
   "outputs": [],
   "source": [
    "import matplotlib.pyplot as plt\n",
    "import numpy as np\n",
    "import pandas as pd"
   ]
  },
  {
   "cell_type": "markdown",
   "id": "8306a5c6",
   "metadata": {},
   "source": [
    "# plt.plot(arr,arr2)\n",
    "It is a universal function that we use to plot the data on two axes(x&y)"
   ]
  },
  {
   "cell_type": "code",
   "execution_count": null,
   "id": "05b50e73",
   "metadata": {},
   "outputs": [],
   "source": [
    "In matplotlib we have two approaches.\n",
    "1- Functional approach\n",
    "2- Object oriented approach"
   ]
  },
  {
   "cell_type": "code",
   "execution_count": null,
   "id": "823d2c66",
   "metadata": {},
   "outputs": [],
   "source": [
    "The choice between the functional and object-oriented approach often depends on your specific requirements and \n",
    "coding style.While the functional approach is more concise for simple plots, the object-oriented approach \n",
    "provides greater control and is recommended for more complex visualizations with multiple subplots or custom \n",
    "configurations. You can even mix and match these approaches within the same script if needed."
   ]
  },
  {
   "cell_type": "markdown",
   "id": "315b988c",
   "metadata": {},
   "source": [
    "# Functional Approach\n",
    "It is also known as beginners' approach.\n",
    "It is used to plot the data quick."
   ]
  },
  {
   "cell_type": "code",
   "execution_count": null,
   "id": "3a800f40",
   "metadata": {},
   "outputs": [],
   "source": [
    "plt.plot(arr,arr_2)\n",
    "\n",
    "\n",
    "plt.show()"
   ]
  },
  {
   "cell_type": "markdown",
   "id": "cebfba51",
   "metadata": {},
   "source": [
    "plt.title(\" \")\n",
    "plt.xlabel(\" \")\n",
    "plt.ylabel(\"\")\n",
    "plt.show()---plt.show() is a function used to display the currently active figure. It's typically called at the end of your plotting code to render the plot on your screen or save it to a file. "
   ]
  },
  {
   "cell_type": "code",
   "execution_count": null,
   "id": "90a9b9c2",
   "metadata": {},
   "outputs": [],
   "source": [
    "# ls- line style- '-','--','-.',':'\n",
    "# lw- line width- numeric value\n",
    "plt.grid()\n",
    "plt.plot(arr,arr_2,color='y',ls='--',lw=3,marker='v',markerfacecolor='red',markersize=10,markeredgecolor='green',\n",
    "         markeredgewidth=2)\n",
    "\n",
    "#Plotting multiple plots----To plot multiple plots in functional approach we use plt.subplot(rows,columns,plot_number)\n",
    "\n",
    "#plt.tight_layout()--vvplt.tight_layout() is a function that automatically adjusts the subplot \n",
    "parameters to ensure that the elements of your plot, such as titles, labels, and other decorations,\n",
    "fit nicely within the figure area without overlapping. It's particularly useful when you have multiple \n",
    "subplots in a single figure.\n",
    "\n",
    "#Inside a single plot we can plot multiple plots\n",
    "\n",
    "plt.plot(arr,arr_2,label='arr vs arr_2')\n",
    "\n",
    "plt.plot(arr_2,arr,label='arr_2 vs arr')\n",
    "\n",
    "plt.plot(arr,arr*10,label='arr vs arr*10')\n",
    "\n",
    "plt.legend(loc=1,title='ABC',fontsize=15)\n",
    "\n",
    "#plt.legend() is a function used to add a legend to your plot. A legend is a key that helps explain\n",
    "the meaning of different elements in your plot, such as lines, markers, or colors. It's especially \n",
    "useful when you have multiple data series or elements on a single plot, and you want to label them for clarity."
   ]
  },
  {
   "cell_type": "markdown",
   "id": "1a48dc2e",
   "metadata": {},
   "source": [
    "# Object Oriented Approach"
   ]
  },
  {
   "cell_type": "code",
   "execution_count": null,
   "id": "11725196",
   "metadata": {},
   "outputs": [],
   "source": [
    "\n",
    "It is also known as figure and axis approach.\n",
    "In this we can create multiple axes of different sizes in a figure.\n",
    "We can plot the data in each axis separately.\n",
    "We can increase or decrease the size of the figure as well as an axis"
   ]
  },
  {
   "cell_type": "code",
   "execution_count": null,
   "id": "fa406444",
   "metadata": {},
   "outputs": [],
   "source": [
    "#How to create a figure?\n",
    "plt.figure()\n",
    "\n",
    "#How to add axes to a figure?\n",
    "figure_object.add_axes([left_boundary, bottom_boundary, width, height])\n",
    "\n",
    "#title---a3.set_title()\n",
    "#x axis---a3.set_xlabel()\n",
    "#y axis---a3.set_ylabel()\n",
    "\n",
    "#How to increase the size of the figure and pixel density?\n",
    "fig=plt.figure(figsize=(6,5),dpi=200)\n",
    "\n",
    "#plt.subplots(rows,cols)\n",
    "fig,ax=plt.subplots(1,2,figsize=(),dpi=)\n",
    "ax[0].plot(arr,arr2...)\n",
    "It is an automatic axis manager.\n",
    "It returns two objects.\n",
    "The first object is the figure object and the second object is the axis object\n",
    "It creates the axes of same size inside a figure.\n",
    "\n",
    "#How to save a figure?\n",
    "fig_object.savefig('name.extension')"
   ]
  },
  {
   "cell_type": "markdown",
   "id": "a86919a6",
   "metadata": {},
   "source": [
    "# Plotting different kind of plots"
   ]
  },
  {
   "cell_type": "code",
   "execution_count": null,
   "id": "2f9361a4",
   "metadata": {},
   "outputs": [],
   "source": [
    "plt.pie(data,labels)\n"
   ]
  },
  {
   "cell_type": "code",
   "execution_count": null,
   "id": "bd8f9031",
   "metadata": {},
   "outputs": [],
   "source": [
    "plt.boxplot(data.Units)"
   ]
  },
  {
   "cell_type": "code",
   "execution_count": null,
   "id": "1d8bee8f",
   "metadata": {},
   "outputs": [],
   "source": [
    "plt.scatter(data.Age,data.Fare,color='red',marker='o')\n"
   ]
  },
  {
   "cell_type": "code",
   "execution_count": null,
   "id": "7493a1ae",
   "metadata": {},
   "outputs": [],
   "source": [
    "plt.bar(data.Sex,data.Age)"
   ]
  },
  {
   "cell_type": "code",
   "execution_count": null,
   "id": "5c7ab8f5",
   "metadata": {},
   "outputs": [],
   "source": []
  },
  {
   "cell_type": "code",
   "execution_count": null,
   "id": "fc972af0",
   "metadata": {},
   "outputs": [],
   "source": []
  }
 ],
 "metadata": {
  "kernelspec": {
   "display_name": "Python 3 (ipykernel)",
   "language": "python",
   "name": "python3"
  },
  "language_info": {
   "codemirror_mode": {
    "name": "ipython",
    "version": 3
   },
   "file_extension": ".py",
   "mimetype": "text/x-python",
   "name": "python",
   "nbconvert_exporter": "python",
   "pygments_lexer": "ipython3",
   "version": "3.11.4"
  }
 },
 "nbformat": 4,
 "nbformat_minor": 5
}
